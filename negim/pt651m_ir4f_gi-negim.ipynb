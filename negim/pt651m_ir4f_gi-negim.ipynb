{
 "cells": [
  {
   "cell_type": "markdown",
   "metadata": {},
   "source": [
    "# **FINE TUNING FASTER RCNN USING PYTORCH**\n",
    "\n",
    "ir4 add good images with label GoodImage \n",
    "\n",
    "In this Notebook we can fine tune a Faster RCNN on the images dataset. If you want to brush up about what is Faster RCNN, [here's](https://medium.com/@whatdhack/a-deeper-look-at-how-faster-rcnn-works-84081284e1cd) an awesome medium article on the same.\n",
    "\n",
    "Ref: inspired by the Pytorch docs tutorial [here](https://pytorch.org/tutorials/intermediate/torchvision_tutorial.html)\n"
   ]
  },
  {
   "cell_type": "markdown",
   "metadata": {},
   "source": [
    "## Installs"
   ]
  },
  {
   "cell_type": "code",
   "execution_count": 1,
   "metadata": {},
   "outputs": [],
   "source": [
    "!mkdir -p log\n",
    "!pip freeze >log/requirements$(date +\"__%Y.%m.%d_%b-%a_%H.%M.%S\")_01-b4.txt"
   ]
  },
  {
   "cell_type": "code",
   "execution_count": 2,
   "metadata": {},
   "outputs": [
    {
     "name": "stdout",
     "output_type": "stream",
     "text": [
      "/notebooks/ml639a/pt651f\n"
     ]
    }
   ],
   "source": [
    "%%bash\n",
    "pd=$(pwd);echo $pd"
   ]
  },
  {
   "cell_type": "code",
   "execution_count": 3,
   "metadata": {
    "tags": []
   },
   "outputs": [
    {
     "name": "stdout",
     "output_type": "stream",
     "text": [
      "/notebooks/ml639a/pt651f\n"
     ]
    },
    {
     "name": "stderr",
     "output_type": "stream",
     "text": [
      "fatal: destination path 'vision' already exists and is not an empty directory.\n"
     ]
    },
    {
     "name": "stdout",
     "output_type": "stream",
     "text": [
      "/notebooks/ml639a/pt651f\n"
     ]
    }
   ],
   "source": [
    "%%bash\n",
    "pd=$(pwd);echo $pd\n",
    "# Download TorchVision repo to use some files from references/detection\n",
    "# cd /notebooks\n",
    "cd ../..\n",
    "mkdir -p pytorchvision\n",
    "cd pytorchvision\n",
    "git clone https://github.com/pytorch/vision.git \n",
    "##!git checkout v0.3.0\n",
    "cp vision/references/detection/utils.py ./\n",
    "cp vision/references/detection/transforms.py ./\n",
    "cp vision/references/detection/coco_eval.py ./\n",
    "cp vision/references/detection/engine.py ./\n",
    "cp vision/references/detection/coco_utils.py ./\n",
    "cd $pd\n",
    "pwd"
   ]
  },
  {
   "cell_type": "code",
   "execution_count": 1,
   "metadata": {
    "collapsed": true,
    "jupyter": {
     "outputs_hidden": true
    },
    "tags": []
   },
   "outputs": [
    {
     "name": "stdout",
     "output_type": "stream",
     "text": [
      "/notebooks/ml639a/pt651m\n"
     ]
    },
    {
     "name": "stderr",
     "output_type": "stream",
     "text": [
      "\n",
      "WARNING: apt does not have a stable CLI interface. Use with caution in scripts.\n",
      "\n"
     ]
    },
    {
     "name": "stdout",
     "output_type": "stream",
     "text": [
      "Get:1 http://security.ubuntu.com/ubuntu focal-security InRelease [114 kB]\n",
      "Hit:2 http://archive.ubuntu.com/ubuntu focal InRelease\n",
      "Get:3 http://archive.ubuntu.com/ubuntu focal-updates InRelease [114 kB]\n",
      "Get:4 http://archive.ubuntu.com/ubuntu focal-backports InRelease [108 kB]\n",
      "Get:5 http://security.ubuntu.com/ubuntu focal-security/main amd64 Packages [2087 kB]\n",
      "Get:6 http://archive.ubuntu.com/ubuntu focal-updates/restricted amd64 Packages [1569 kB]\n",
      "Get:7 http://security.ubuntu.com/ubuntu focal-security/universe amd64 Packages [888 kB]\n",
      "Get:8 http://security.ubuntu.com/ubuntu focal-security/multiverse amd64 Packages [27.5 kB]\n",
      "Get:9 http://security.ubuntu.com/ubuntu focal-security/restricted amd64 Packages [1461 kB]\n",
      "Get:10 http://archive.ubuntu.com/ubuntu focal-updates/universe amd64 Packages [1176 kB]\n",
      "Get:11 http://archive.ubuntu.com/ubuntu focal-updates/main amd64 Packages [2539 kB]\n",
      "Get:12 http://archive.ubuntu.com/ubuntu focal-updates/multiverse amd64 Packages [30.2 kB]\n",
      "Get:13 http://archive.ubuntu.com/ubuntu focal-backports/main amd64 Packages [55.2 kB]\n",
      "Get:14 http://archive.ubuntu.com/ubuntu focal-backports/universe amd64 Packages [27.5 kB]\n",
      "Fetched 10.2 MB in 1s (7097 kB/s)\n",
      "Reading package lists...\n",
      "Building dependency tree...\n",
      "Reading state information...\n",
      "78 packages can be upgraded. Run 'apt list --upgradable' to see them.\n",
      "Reading package lists...\n",
      "Building dependency tree...\n",
      "Reading state information...\n",
      "The following additional packages will be installed:\n",
      "  libdrm-amdgpu1 libdrm-common libdrm-intel1 libdrm-nouveau2 libdrm-radeon1\n",
      "  libdrm2 libegl-dev libegl-mesa0 libegl1 libelf1 libgbm1 libgl-dev libgl1\n",
      "  libgl1-mesa-dri libglapi-mesa libgles-dev libgles1 libgles2 libglvnd-dev\n",
      "  libglvnd0 libglx-dev libglx-mesa0 libglx0 libllvm12 libopengl-dev libopengl0\n",
      "  libpciaccess0 libpthread-stubs0-dev libsensors-config libsensors5 libvulkan1\n",
      "  libwayland-client0 libwayland-server0 libx11-6 libx11-data libx11-dev\n",
      "  libx11-xcb1 libxau-dev libxau6 libxcb-dri2-0 libxcb-dri3-0 libxcb-glx0\n",
      "  libxcb-present0 libxcb-randr0 libxcb-shm0 libxcb-sync1 libxcb-xfixes0\n",
      "  libxcb1 libxcb1-dev libxdmcp-dev libxdmcp6 libxext6 libxfixes3 libxshmfence1\n",
      "  libxxf86vm1 mesa-vulkan-drivers x11proto-core-dev x11proto-dev\n",
      "  xorg-sgml-doctools xtrans-dev\n",
      "Suggested packages:\n",
      "  pciutils lm-sensors libx11-doc libxcb-doc\n",
      "The following NEW packages will be installed:\n",
      "  libdrm-amdgpu1 libdrm-common libdrm-intel1 libdrm-nouveau2 libdrm-radeon1\n",
      "  libdrm2 libegl-dev libegl-mesa0 libegl1 libelf1 libgbm1 libgl-dev libgl1\n",
      "  libgl1-mesa-dev libgl1-mesa-dri libglapi-mesa libgles-dev libgles1 libgles2\n",
      "  libglvnd-dev libglvnd0 libglx-dev libglx-mesa0 libglx0 libllvm12\n",
      "  libopengl-dev libopengl0 libpciaccess0 libpthread-stubs0-dev\n",
      "  libsensors-config libsensors5 libvulkan1 libwayland-client0\n",
      "  libwayland-server0 libx11-6 libx11-data libx11-dev libx11-xcb1 libxau-dev\n",
      "  libxau6 libxcb-dri2-0 libxcb-dri3-0 libxcb-glx0 libxcb-present0\n",
      "  libxcb-randr0 libxcb-shm0 libxcb-sync1 libxcb-xfixes0 libxcb1 libxcb1-dev\n",
      "  libxdmcp-dev libxdmcp6 libxext6 libxfixes3 libxshmfence1 libxxf86vm1\n",
      "  mesa-vulkan-drivers x11proto-core-dev x11proto-dev xorg-sgml-doctools\n",
      "  xtrans-dev\n",
      "0 upgraded, 61 newly installed, 0 to remove and 78 not upgraded.\n",
      "Need to get 39.0 MB of archives.\n",
      "After this operation, 537 MB of additional disk space will be used.\n",
      "Get:1 http://archive.ubuntu.com/ubuntu focal/main amd64 libelf1 amd64 0.176-1.1build1 [44.0 kB]\n",
      "Get:2 http://archive.ubuntu.com/ubuntu focal-updates/main amd64 libdrm-common all 2.4.107-8ubuntu1~20.04.2 [5396 B]\n",
      "Get:3 http://archive.ubuntu.com/ubuntu focal-updates/main amd64 libdrm2 amd64 2.4.107-8ubuntu1~20.04.2 [34.1 kB]\n",
      "Get:4 http://archive.ubuntu.com/ubuntu focal/main amd64 libxau6 amd64 1:1.0.9-0ubuntu1 [7488 B]\n",
      "Get:5 http://archive.ubuntu.com/ubuntu focal/main amd64 libxdmcp6 amd64 1:1.1.3-0ubuntu1 [10.6 kB]\n",
      "Get:6 http://archive.ubuntu.com/ubuntu focal/main amd64 libxcb1 amd64 1.14-2 [44.7 kB]\n",
      "Get:7 http://archive.ubuntu.com/ubuntu focal-updates/main amd64 libx11-data all 2:1.6.9-2ubuntu1.2 [113 kB]\n",
      "Get:8 http://archive.ubuntu.com/ubuntu focal-updates/main amd64 libx11-6 amd64 2:1.6.9-2ubuntu1.2 [575 kB]\n",
      "Get:9 http://archive.ubuntu.com/ubuntu focal/main amd64 libxext6 amd64 2:1.3.4-0ubuntu1 [29.1 kB]\n",
      "Get:10 http://archive.ubuntu.com/ubuntu focal-updates/main amd64 libdrm-amdgpu1 amd64 2.4.107-8ubuntu1~20.04.2 [18.6 kB]\n",
      "Get:11 http://archive.ubuntu.com/ubuntu focal/main amd64 libpciaccess0 amd64 0.16-0ubuntu1 [17.9 kB]\n",
      "Get:12 http://archive.ubuntu.com/ubuntu focal-updates/main amd64 libdrm-intel1 amd64 2.4.107-8ubuntu1~20.04.2 [60.3 kB]\n",
      "Get:13 http://archive.ubuntu.com/ubuntu focal-updates/main amd64 libdrm-nouveau2 amd64 2.4.107-8ubuntu1~20.04.2 [16.6 kB]\n",
      "Get:14 http://archive.ubuntu.com/ubuntu focal-updates/main amd64 libdrm-radeon1 amd64 2.4.107-8ubuntu1~20.04.2 [19.7 kB]\n",
      "Get:15 http://archive.ubuntu.com/ubuntu focal-updates/main amd64 libglvnd0 amd64 1.3.2-1~ubuntu0.20.04.2 [48.1 kB]\n",
      "Get:16 http://archive.ubuntu.com/ubuntu focal/main amd64 libwayland-server0 amd64 1.18.0-1 [31.6 kB]\n",
      "Get:17 http://archive.ubuntu.com/ubuntu focal-updates/main amd64 libgbm1 amd64 21.2.6-0ubuntu0.1~20.04.2 [29.2 kB]\n",
      "Get:18 http://archive.ubuntu.com/ubuntu focal-updates/main amd64 libglapi-mesa amd64 21.2.6-0ubuntu0.1~20.04.2 [27.4 kB]\n",
      "Get:19 http://archive.ubuntu.com/ubuntu focal/main amd64 libwayland-client0 amd64 1.18.0-1 [23.9 kB]\n",
      "Get:20 http://archive.ubuntu.com/ubuntu focal-updates/main amd64 libx11-xcb1 amd64 2:1.6.9-2ubuntu1.2 [9372 B]\n",
      "Get:21 http://archive.ubuntu.com/ubuntu focal/main amd64 libxcb-dri2-0 amd64 1.14-2 [6920 B]\n",
      "Get:22 http://archive.ubuntu.com/ubuntu focal/main amd64 libxcb-dri3-0 amd64 1.14-2 [6552 B]\n",
      "Get:23 http://archive.ubuntu.com/ubuntu focal/main amd64 libxcb-present0 amd64 1.14-2 [5560 B]\n",
      "Get:24 http://archive.ubuntu.com/ubuntu focal/main amd64 libxcb-sync1 amd64 1.14-2 [8884 B]\n",
      "Get:25 http://archive.ubuntu.com/ubuntu focal/main amd64 libxcb-xfixes0 amd64 1.14-2 [9296 B]\n",
      "Get:26 http://archive.ubuntu.com/ubuntu focal/main amd64 libxshmfence1 amd64 1.3-1 [5028 B]\n",
      "Get:27 http://archive.ubuntu.com/ubuntu focal-updates/main amd64 libegl-mesa0 amd64 21.2.6-0ubuntu0.1~20.04.2 [96.3 kB]\n",
      "Get:28 http://archive.ubuntu.com/ubuntu focal-updates/main amd64 libegl1 amd64 1.3.2-1~ubuntu0.20.04.2 [31.9 kB]\n",
      "Get:29 http://archive.ubuntu.com/ubuntu focal/main amd64 libxcb-glx0 amd64 1.14-2 [22.1 kB]\n",
      "Get:30 http://archive.ubuntu.com/ubuntu focal/main amd64 libxcb-shm0 amd64 1.14-2 [5584 B]\n",
      "Get:31 http://archive.ubuntu.com/ubuntu focal/main amd64 libxfixes3 amd64 1:5.0.3-2 [10.9 kB]\n",
      "Get:32 http://archive.ubuntu.com/ubuntu focal/main amd64 libxxf86vm1 amd64 1:1.1.4-1build1 [10.2 kB]\n",
      "Get:33 http://archive.ubuntu.com/ubuntu focal-updates/main amd64 libllvm12 amd64 1:12.0.0-3ubuntu1~20.04.5 [18.8 MB]\n",
      "Get:34 http://archive.ubuntu.com/ubuntu focal-updates/main amd64 libsensors-config all 1:3.6.0-2ubuntu1.1 [6052 B]\n",
      "Get:35 http://archive.ubuntu.com/ubuntu focal-updates/main amd64 libsensors5 amd64 1:3.6.0-2ubuntu1.1 [27.2 kB]\n",
      "Get:36 http://archive.ubuntu.com/ubuntu focal/main amd64 libvulkan1 amd64 1.2.131.2-1 [93.3 kB]\n",
      "Get:37 http://archive.ubuntu.com/ubuntu focal-updates/main amd64 libgl1-mesa-dri amd64 21.2.6-0ubuntu0.1~20.04.2 [11.0 MB]\n",
      "Get:38 http://archive.ubuntu.com/ubuntu focal-updates/main amd64 libglx-mesa0 amd64 21.2.6-0ubuntu0.1~20.04.2 [137 kB]\n",
      "Get:39 http://archive.ubuntu.com/ubuntu focal-updates/main amd64 libglx0 amd64 1.3.2-1~ubuntu0.20.04.2 [32.5 kB]\n",
      "Get:40 http://archive.ubuntu.com/ubuntu focal-updates/main amd64 libgl1 amd64 1.3.2-1~ubuntu0.20.04.2 [85.8 kB]\n",
      "Get:41 http://archive.ubuntu.com/ubuntu focal/main amd64 xorg-sgml-doctools all 1:1.11-1 [12.9 kB]\n",
      "Get:42 http://archive.ubuntu.com/ubuntu focal/main amd64 x11proto-dev all 2019.2-1ubuntu1 [594 kB]\n",
      "Get:43 http://archive.ubuntu.com/ubuntu focal/main amd64 x11proto-core-dev all 2019.2-1ubuntu1 [2620 B]\n",
      "Get:44 http://archive.ubuntu.com/ubuntu focal/main amd64 libxau-dev amd64 1:1.0.9-0ubuntu1 [9552 B]\n",
      "Get:45 http://archive.ubuntu.com/ubuntu focal/main amd64 libxdmcp-dev amd64 1:1.1.3-0ubuntu1 [25.3 kB]\n",
      "Get:46 http://archive.ubuntu.com/ubuntu focal/main amd64 xtrans-dev all 1.4.0-1 [68.9 kB]\n",
      "Get:47 http://archive.ubuntu.com/ubuntu focal/main amd64 libpthread-stubs0-dev amd64 0.4-1 [5384 B]\n",
      "Get:48 http://archive.ubuntu.com/ubuntu focal/main amd64 libxcb1-dev amd64 1.14-2 [80.5 kB]\n",
      "Get:49 http://archive.ubuntu.com/ubuntu focal-updates/main amd64 libx11-dev amd64 2:1.6.9-2ubuntu1.2 [647 kB]\n",
      "Get:50 http://archive.ubuntu.com/ubuntu focal-updates/main amd64 libglx-dev amd64 1.3.2-1~ubuntu0.20.04.2 [14.0 kB]\n",
      "Get:51 http://archive.ubuntu.com/ubuntu focal-updates/main amd64 libgl-dev amd64 1.3.2-1~ubuntu0.20.04.2 [97.8 kB]\n",
      "Get:52 http://archive.ubuntu.com/ubuntu focal-updates/main amd64 libegl-dev amd64 1.3.2-1~ubuntu0.20.04.2 [17.2 kB]\n",
      "Get:53 http://archive.ubuntu.com/ubuntu focal-updates/main amd64 libgles1 amd64 1.3.2-1~ubuntu0.20.04.2 [10.3 kB]\n",
      "Get:54 http://archive.ubuntu.com/ubuntu focal-updates/main amd64 libgles2 amd64 1.3.2-1~ubuntu0.20.04.2 [15.6 kB]\n",
      "Get:55 http://archive.ubuntu.com/ubuntu focal-updates/main amd64 libgles-dev amd64 1.3.2-1~ubuntu0.20.04.2 [47.9 kB]\n",
      "Get:56 http://archive.ubuntu.com/ubuntu focal-updates/main amd64 libopengl0 amd64 1.3.2-1~ubuntu0.20.04.2 [29.2 kB]\n",
      "Get:57 http://archive.ubuntu.com/ubuntu focal-updates/main amd64 libopengl-dev amd64 1.3.2-1~ubuntu0.20.04.2 [3584 B]\n",
      "Get:58 http://archive.ubuntu.com/ubuntu focal/main amd64 libxcb-randr0 amd64 1.14-2 [16.3 kB]\n",
      "Get:59 http://archive.ubuntu.com/ubuntu focal-updates/main amd64 mesa-vulkan-drivers amd64 21.2.6-0ubuntu0.1~20.04.2 [5788 kB]\n",
      "Get:60 http://archive.ubuntu.com/ubuntu focal-updates/main amd64 libglvnd-dev amd64 1.3.2-1~ubuntu0.20.04.2 [11.6 kB]\n",
      "Get:61 http://archive.ubuntu.com/ubuntu focal-updates/main amd64 libgl1-mesa-dev amd64 21.2.6-0ubuntu0.1~20.04.2 [6420 B]\n"
     ]
    },
    {
     "name": "stderr",
     "output_type": "stream",
     "text": [
      "debconf: unable to initialize frontend: Dialog\n",
      "debconf: (No usable dialog-like program is installed, so the dialog based frontend cannot be used. at /usr/share/perl5/Debconf/FrontEnd/Dialog.pm line 76, <> line 61.)\n",
      "debconf: falling back to frontend: Readline\n",
      "debconf: unable to initialize frontend: Readline\n",
      "debconf: (This frontend requires a controlling tty.)\n",
      "debconf: falling back to frontend: Teletype\n",
      "dpkg-preconfigure: unable to re-open stdin: \n"
     ]
    },
    {
     "name": "stdout",
     "output_type": "stream",
     "text": [
      "Fetched 39.0 MB in 2s (22.0 MB/s)\n",
      "Selecting previously unselected package libelf1:amd64.\n",
      "(Reading database ... 20930 files and directories currently installed.)\n",
      "Preparing to unpack .../00-libelf1_0.176-1.1build1_amd64.deb ...\n",
      "Unpacking libelf1:amd64 (0.176-1.1build1) ...\n",
      "Selecting previously unselected package libdrm-common.\n",
      "Preparing to unpack .../01-libdrm-common_2.4.107-8ubuntu1~20.04.2_all.deb ...\n",
      "Unpacking libdrm-common (2.4.107-8ubuntu1~20.04.2) ...\n",
      "Selecting previously unselected package libdrm2:amd64.\n",
      "Preparing to unpack .../02-libdrm2_2.4.107-8ubuntu1~20.04.2_amd64.deb ...\n",
      "Unpacking libdrm2:amd64 (2.4.107-8ubuntu1~20.04.2) ...\n",
      "Selecting previously unselected package libxau6:amd64.\n",
      "Preparing to unpack .../03-libxau6_1%3a1.0.9-0ubuntu1_amd64.deb ...\n",
      "Unpacking libxau6:amd64 (1:1.0.9-0ubuntu1) ...\n",
      "Selecting previously unselected package libxdmcp6:amd64.\n",
      "Preparing to unpack .../04-libxdmcp6_1%3a1.1.3-0ubuntu1_amd64.deb ...\n",
      "Unpacking libxdmcp6:amd64 (1:1.1.3-0ubuntu1) ...\n",
      "Selecting previously unselected package libxcb1:amd64.\n",
      "Preparing to unpack .../05-libxcb1_1.14-2_amd64.deb ...\n",
      "Unpacking libxcb1:amd64 (1.14-2) ...\n",
      "Selecting previously unselected package libx11-data.\n",
      "Preparing to unpack .../06-libx11-data_2%3a1.6.9-2ubuntu1.2_all.deb ...\n",
      "Unpacking libx11-data (2:1.6.9-2ubuntu1.2) ...\n",
      "Selecting previously unselected package libx11-6:amd64.\n",
      "Preparing to unpack .../07-libx11-6_2%3a1.6.9-2ubuntu1.2_amd64.deb ...\n",
      "Unpacking libx11-6:amd64 (2:1.6.9-2ubuntu1.2) ...\n",
      "Selecting previously unselected package libxext6:amd64.\n",
      "Preparing to unpack .../08-libxext6_2%3a1.3.4-0ubuntu1_amd64.deb ...\n",
      "Unpacking libxext6:amd64 (2:1.3.4-0ubuntu1) ...\n",
      "Selecting previously unselected package libdrm-amdgpu1:amd64.\n",
      "Preparing to unpack .../09-libdrm-amdgpu1_2.4.107-8ubuntu1~20.04.2_amd64.deb ...\n",
      "Unpacking libdrm-amdgpu1:amd64 (2.4.107-8ubuntu1~20.04.2) ...\n",
      "Selecting previously unselected package libpciaccess0:amd64.\n",
      "Preparing to unpack .../10-libpciaccess0_0.16-0ubuntu1_amd64.deb ...\n",
      "Unpacking libpciaccess0:amd64 (0.16-0ubuntu1) ...\n",
      "Selecting previously unselected package libdrm-intel1:amd64.\n",
      "Preparing to unpack .../11-libdrm-intel1_2.4.107-8ubuntu1~20.04.2_amd64.deb ...\n",
      "Unpacking libdrm-intel1:amd64 (2.4.107-8ubuntu1~20.04.2) ...\n",
      "Selecting previously unselected package libdrm-nouveau2:amd64.\n",
      "Preparing to unpack .../12-libdrm-nouveau2_2.4.107-8ubuntu1~20.04.2_amd64.deb ...\n",
      "Unpacking libdrm-nouveau2:amd64 (2.4.107-8ubuntu1~20.04.2) ...\n",
      "Selecting previously unselected package libdrm-radeon1:amd64.\n",
      "Preparing to unpack .../13-libdrm-radeon1_2.4.107-8ubuntu1~20.04.2_amd64.deb ...\n",
      "Unpacking libdrm-radeon1:amd64 (2.4.107-8ubuntu1~20.04.2) ...\n",
      "Selecting previously unselected package libglvnd0:amd64.\n",
      "Preparing to unpack .../14-libglvnd0_1.3.2-1~ubuntu0.20.04.2_amd64.deb ...\n",
      "Unpacking libglvnd0:amd64 (1.3.2-1~ubuntu0.20.04.2) ...\n",
      "Selecting previously unselected package libwayland-server0:amd64.\n",
      "Preparing to unpack .../15-libwayland-server0_1.18.0-1_amd64.deb ...\n",
      "Unpacking libwayland-server0:amd64 (1.18.0-1) ...\n",
      "Selecting previously unselected package libgbm1:amd64.\n",
      "Preparing to unpack .../16-libgbm1_21.2.6-0ubuntu0.1~20.04.2_amd64.deb ...\n",
      "Unpacking libgbm1:amd64 (21.2.6-0ubuntu0.1~20.04.2) ...\n",
      "Selecting previously unselected package libglapi-mesa:amd64.\n",
      "Preparing to unpack .../17-libglapi-mesa_21.2.6-0ubuntu0.1~20.04.2_amd64.deb ...\n",
      "Unpacking libglapi-mesa:amd64 (21.2.6-0ubuntu0.1~20.04.2) ...\n",
      "Selecting previously unselected package libwayland-client0:amd64.\n",
      "Preparing to unpack .../18-libwayland-client0_1.18.0-1_amd64.deb ...\n",
      "Unpacking libwayland-client0:amd64 (1.18.0-1) ...\n",
      "Selecting previously unselected package libx11-xcb1:amd64.\n",
      "Preparing to unpack .../19-libx11-xcb1_2%3a1.6.9-2ubuntu1.2_amd64.deb ...\n",
      "Unpacking libx11-xcb1:amd64 (2:1.6.9-2ubuntu1.2) ...\n",
      "Selecting previously unselected package libxcb-dri2-0:amd64.\n",
      "Preparing to unpack .../20-libxcb-dri2-0_1.14-2_amd64.deb ...\n",
      "Unpacking libxcb-dri2-0:amd64 (1.14-2) ...\n",
      "Selecting previously unselected package libxcb-dri3-0:amd64.\n",
      "Preparing to unpack .../21-libxcb-dri3-0_1.14-2_amd64.deb ...\n",
      "Unpacking libxcb-dri3-0:amd64 (1.14-2) ...\n",
      "Selecting previously unselected package libxcb-present0:amd64.\n",
      "Preparing to unpack .../22-libxcb-present0_1.14-2_amd64.deb ...\n",
      "Unpacking libxcb-present0:amd64 (1.14-2) ...\n",
      "Selecting previously unselected package libxcb-sync1:amd64.\n",
      "Preparing to unpack .../23-libxcb-sync1_1.14-2_amd64.deb ...\n",
      "Unpacking libxcb-sync1:amd64 (1.14-2) ...\n",
      "Selecting previously unselected package libxcb-xfixes0:amd64.\n",
      "Preparing to unpack .../24-libxcb-xfixes0_1.14-2_amd64.deb ...\n",
      "Unpacking libxcb-xfixes0:amd64 (1.14-2) ...\n",
      "Selecting previously unselected package libxshmfence1:amd64.\n",
      "Preparing to unpack .../25-libxshmfence1_1.3-1_amd64.deb ...\n",
      "Unpacking libxshmfence1:amd64 (1.3-1) ...\n",
      "Selecting previously unselected package libegl-mesa0:amd64.\n",
      "Preparing to unpack .../26-libegl-mesa0_21.2.6-0ubuntu0.1~20.04.2_amd64.deb ...\n",
      "Unpacking libegl-mesa0:amd64 (21.2.6-0ubuntu0.1~20.04.2) ...\n",
      "Selecting previously unselected package libegl1:amd64.\n",
      "Preparing to unpack .../27-libegl1_1.3.2-1~ubuntu0.20.04.2_amd64.deb ...\n",
      "Unpacking libegl1:amd64 (1.3.2-1~ubuntu0.20.04.2) ...\n",
      "Selecting previously unselected package libxcb-glx0:amd64.\n",
      "Preparing to unpack .../28-libxcb-glx0_1.14-2_amd64.deb ...\n",
      "Unpacking libxcb-glx0:amd64 (1.14-2) ...\n",
      "Selecting previously unselected package libxcb-shm0:amd64.\n",
      "Preparing to unpack .../29-libxcb-shm0_1.14-2_amd64.deb ...\n",
      "Unpacking libxcb-shm0:amd64 (1.14-2) ...\n",
      "Selecting previously unselected package libxfixes3:amd64.\n",
      "Preparing to unpack .../30-libxfixes3_1%3a5.0.3-2_amd64.deb ...\n",
      "Unpacking libxfixes3:amd64 (1:5.0.3-2) ...\n",
      "Selecting previously unselected package libxxf86vm1:amd64.\n",
      "Preparing to unpack .../31-libxxf86vm1_1%3a1.1.4-1build1_amd64.deb ...\n",
      "Unpacking libxxf86vm1:amd64 (1:1.1.4-1build1) ...\n",
      "Selecting previously unselected package libllvm12:amd64.\n",
      "Preparing to unpack .../32-libllvm12_1%3a12.0.0-3ubuntu1~20.04.5_amd64.deb ...\n",
      "Unpacking libllvm12:amd64 (1:12.0.0-3ubuntu1~20.04.5) ...\n",
      "Selecting previously unselected package libsensors-config.\n",
      "Preparing to unpack .../33-libsensors-config_1%3a3.6.0-2ubuntu1.1_all.deb ...\n",
      "Unpacking libsensors-config (1:3.6.0-2ubuntu1.1) ...\n",
      "Selecting previously unselected package libsensors5:amd64.\n",
      "Preparing to unpack .../34-libsensors5_1%3a3.6.0-2ubuntu1.1_amd64.deb ...\n",
      "Unpacking libsensors5:amd64 (1:3.6.0-2ubuntu1.1) ...\n",
      "Selecting previously unselected package libvulkan1:amd64.\n",
      "Preparing to unpack .../35-libvulkan1_1.2.131.2-1_amd64.deb ...\n",
      "Unpacking libvulkan1:amd64 (1.2.131.2-1) ...\n",
      "Selecting previously unselected package libgl1-mesa-dri:amd64.\n",
      "Preparing to unpack .../36-libgl1-mesa-dri_21.2.6-0ubuntu0.1~20.04.2_amd64.deb ...\n",
      "Unpacking libgl1-mesa-dri:amd64 (21.2.6-0ubuntu0.1~20.04.2) ...\n",
      "Selecting previously unselected package libglx-mesa0:amd64.\n",
      "Preparing to unpack .../37-libglx-mesa0_21.2.6-0ubuntu0.1~20.04.2_amd64.deb ...\n",
      "Unpacking libglx-mesa0:amd64 (21.2.6-0ubuntu0.1~20.04.2) ...\n",
      "Selecting previously unselected package libglx0:amd64.\n",
      "Preparing to unpack .../38-libglx0_1.3.2-1~ubuntu0.20.04.2_amd64.deb ...\n",
      "Unpacking libglx0:amd64 (1.3.2-1~ubuntu0.20.04.2) ...\n",
      "Selecting previously unselected package libgl1:amd64.\n",
      "Preparing to unpack .../39-libgl1_1.3.2-1~ubuntu0.20.04.2_amd64.deb ...\n",
      "Unpacking libgl1:amd64 (1.3.2-1~ubuntu0.20.04.2) ...\n",
      "Selecting previously unselected package xorg-sgml-doctools.\n",
      "Preparing to unpack .../40-xorg-sgml-doctools_1%3a1.11-1_all.deb ...\n",
      "Unpacking xorg-sgml-doctools (1:1.11-1) ...\n",
      "Selecting previously unselected package x11proto-dev.\n",
      "Preparing to unpack .../41-x11proto-dev_2019.2-1ubuntu1_all.deb ...\n",
      "Unpacking x11proto-dev (2019.2-1ubuntu1) ...\n",
      "Selecting previously unselected package x11proto-core-dev.\n",
      "Preparing to unpack .../42-x11proto-core-dev_2019.2-1ubuntu1_all.deb ...\n",
      "Unpacking x11proto-core-dev (2019.2-1ubuntu1) ...\n",
      "Selecting previously unselected package libxau-dev:amd64.\n",
      "Preparing to unpack .../43-libxau-dev_1%3a1.0.9-0ubuntu1_amd64.deb ...\n",
      "Unpacking libxau-dev:amd64 (1:1.0.9-0ubuntu1) ...\n",
      "Selecting previously unselected package libxdmcp-dev:amd64.\n",
      "Preparing to unpack .../44-libxdmcp-dev_1%3a1.1.3-0ubuntu1_amd64.deb ...\n",
      "Unpacking libxdmcp-dev:amd64 (1:1.1.3-0ubuntu1) ...\n",
      "Selecting previously unselected package xtrans-dev.\n",
      "Preparing to unpack .../45-xtrans-dev_1.4.0-1_all.deb ...\n",
      "Unpacking xtrans-dev (1.4.0-1) ...\n",
      "Selecting previously unselected package libpthread-stubs0-dev:amd64.\n",
      "Preparing to unpack .../46-libpthread-stubs0-dev_0.4-1_amd64.deb ...\n",
      "Unpacking libpthread-stubs0-dev:amd64 (0.4-1) ...\n",
      "Selecting previously unselected package libxcb1-dev:amd64.\n",
      "Preparing to unpack .../47-libxcb1-dev_1.14-2_amd64.deb ...\n",
      "Unpacking libxcb1-dev:amd64 (1.14-2) ...\n",
      "Selecting previously unselected package libx11-dev:amd64.\n",
      "Preparing to unpack .../48-libx11-dev_2%3a1.6.9-2ubuntu1.2_amd64.deb ...\n",
      "Unpacking libx11-dev:amd64 (2:1.6.9-2ubuntu1.2) ...\n",
      "Selecting previously unselected package libglx-dev:amd64.\n",
      "Preparing to unpack .../49-libglx-dev_1.3.2-1~ubuntu0.20.04.2_amd64.deb ...\n",
      "Unpacking libglx-dev:amd64 (1.3.2-1~ubuntu0.20.04.2) ...\n",
      "Selecting previously unselected package libgl-dev:amd64.\n",
      "Preparing to unpack .../50-libgl-dev_1.3.2-1~ubuntu0.20.04.2_amd64.deb ...\n",
      "Unpacking libgl-dev:amd64 (1.3.2-1~ubuntu0.20.04.2) ...\n",
      "Selecting previously unselected package libegl-dev:amd64.\n",
      "Preparing to unpack .../51-libegl-dev_1.3.2-1~ubuntu0.20.04.2_amd64.deb ...\n",
      "Unpacking libegl-dev:amd64 (1.3.2-1~ubuntu0.20.04.2) ...\n",
      "Selecting previously unselected package libgles1:amd64.\n",
      "Preparing to unpack .../52-libgles1_1.3.2-1~ubuntu0.20.04.2_amd64.deb ...\n",
      "Unpacking libgles1:amd64 (1.3.2-1~ubuntu0.20.04.2) ...\n",
      "Selecting previously unselected package libgles2:amd64.\n",
      "Preparing to unpack .../53-libgles2_1.3.2-1~ubuntu0.20.04.2_amd64.deb ...\n",
      "Unpacking libgles2:amd64 (1.3.2-1~ubuntu0.20.04.2) ...\n",
      "Selecting previously unselected package libgles-dev:amd64.\n",
      "Preparing to unpack .../54-libgles-dev_1.3.2-1~ubuntu0.20.04.2_amd64.deb ...\n",
      "Unpacking libgles-dev:amd64 (1.3.2-1~ubuntu0.20.04.2) ...\n",
      "Selecting previously unselected package libopengl0:amd64.\n",
      "Preparing to unpack .../55-libopengl0_1.3.2-1~ubuntu0.20.04.2_amd64.deb ...\n",
      "Unpacking libopengl0:amd64 (1.3.2-1~ubuntu0.20.04.2) ...\n",
      "Selecting previously unselected package libopengl-dev:amd64.\n",
      "Preparing to unpack .../56-libopengl-dev_1.3.2-1~ubuntu0.20.04.2_amd64.deb ...\n",
      "Unpacking libopengl-dev:amd64 (1.3.2-1~ubuntu0.20.04.2) ...\n",
      "Selecting previously unselected package libxcb-randr0:amd64.\n",
      "Preparing to unpack .../57-libxcb-randr0_1.14-2_amd64.deb ...\n",
      "Unpacking libxcb-randr0:amd64 (1.14-2) ...\n",
      "Selecting previously unselected package mesa-vulkan-drivers:amd64.\n",
      "Preparing to unpack .../58-mesa-vulkan-drivers_21.2.6-0ubuntu0.1~20.04.2_amd64.deb ...\n",
      "Unpacking mesa-vulkan-drivers:amd64 (21.2.6-0ubuntu0.1~20.04.2) ...\n",
      "Selecting previously unselected package libglvnd-dev:amd64.\n",
      "Preparing to unpack .../59-libglvnd-dev_1.3.2-1~ubuntu0.20.04.2_amd64.deb ...\n",
      "Unpacking libglvnd-dev:amd64 (1.3.2-1~ubuntu0.20.04.2) ...\n",
      "Selecting previously unselected package libgl1-mesa-dev:amd64.\n",
      "Preparing to unpack .../60-libgl1-mesa-dev_21.2.6-0ubuntu0.1~20.04.2_amd64.deb ...\n",
      "Unpacking libgl1-mesa-dev:amd64 (21.2.6-0ubuntu0.1~20.04.2) ...\n",
      "Setting up libwayland-server0:amd64 (1.18.0-1) ...\n",
      "Setting up libx11-xcb1:amd64 (2:1.6.9-2ubuntu1.2) ...\n",
      "Setting up libpciaccess0:amd64 (0.16-0ubuntu1) ...\n",
      "Setting up libxau6:amd64 (1:1.0.9-0ubuntu1) ...\n",
      "Setting up libxdmcp6:amd64 (1:1.1.3-0ubuntu1) ...\n",
      "Setting up libxcb1:amd64 (1.14-2) ...\n",
      "Setting up libxcb-xfixes0:amd64 (1.14-2) ...\n",
      "Setting up libglvnd0:amd64 (1.3.2-1~ubuntu0.20.04.2) ...\n",
      "Setting up libxcb-glx0:amd64 (1.14-2) ...\n",
      "Setting up libsensors-config (1:3.6.0-2ubuntu1.1) ...\n",
      "Setting up libxcb-shm0:amd64 (1.14-2) ...\n",
      "Setting up libpthread-stubs0-dev:amd64 (0.4-1) ...\n",
      "Setting up libopengl0:amd64 (1.3.2-1~ubuntu0.20.04.2) ...\n",
      "Setting up libxcb-present0:amd64 (1.14-2) ...\n",
      "Setting up xtrans-dev (1.4.0-1) ...\n",
      "Setting up libgles2:amd64 (1.3.2-1~ubuntu0.20.04.2) ...\n",
      "Setting up libx11-data (2:1.6.9-2ubuntu1.2) ...\n",
      "Setting up libxcb-sync1:amd64 (1.14-2) ...\n",
      "Setting up libllvm12:amd64 (1:12.0.0-3ubuntu1~20.04.5) ...\n",
      "Setting up libgles1:amd64 (1.3.2-1~ubuntu0.20.04.2) ...\n",
      "Setting up libsensors5:amd64 (1:3.6.0-2ubuntu1.1) ...\n",
      "Setting up libglapi-mesa:amd64 (21.2.6-0ubuntu0.1~20.04.2) ...\n",
      "Setting up libvulkan1:amd64 (1.2.131.2-1) ...\n",
      "Setting up libxcb-dri2-0:amd64 (1.14-2) ...\n",
      "Setting up libxshmfence1:amd64 (1.3-1) ...\n",
      "Setting up libxcb-randr0:amd64 (1.14-2) ...\n",
      "Setting up libx11-6:amd64 (2:1.6.9-2ubuntu1.2) ...\n",
      "Setting up xorg-sgml-doctools (1:1.11-1) ...\n",
      "Setting up libopengl-dev:amd64 (1.3.2-1~ubuntu0.20.04.2) ...\n",
      "Setting up libdrm-common (2.4.107-8ubuntu1~20.04.2) ...\n",
      "Setting up libelf1:amd64 (0.176-1.1build1) ...\n",
      "Setting up libwayland-client0:amd64 (1.18.0-1) ...\n",
      "Setting up x11proto-dev (2019.2-1ubuntu1) ...\n",
      "Setting up libxcb-dri3-0:amd64 (1.14-2) ...\n",
      "Setting up libxau-dev:amd64 (1:1.0.9-0ubuntu1) ...\n",
      "Setting up libxext6:amd64 (2:1.3.4-0ubuntu1) ...\n",
      "Setting up libxxf86vm1:amd64 (1:1.1.4-1build1) ...\n",
      "Setting up libxdmcp-dev:amd64 (1:1.1.3-0ubuntu1) ...\n",
      "Setting up libxfixes3:amd64 (1:5.0.3-2) ...\n",
      "Setting up x11proto-core-dev (2019.2-1ubuntu1) ...\n",
      "Setting up libdrm2:amd64 (2.4.107-8ubuntu1~20.04.2) ...\n",
      "Setting up libdrm-amdgpu1:amd64 (2.4.107-8ubuntu1~20.04.2) ...\n",
      "Setting up mesa-vulkan-drivers:amd64 (21.2.6-0ubuntu0.1~20.04.2) ...\n",
      "Setting up libdrm-nouveau2:amd64 (2.4.107-8ubuntu1~20.04.2) ...\n",
      "Setting up libxcb1-dev:amd64 (1.14-2) ...\n",
      "Setting up libgbm1:amd64 (21.2.6-0ubuntu0.1~20.04.2) ...\n",
      "Setting up libdrm-radeon1:amd64 (2.4.107-8ubuntu1~20.04.2) ...\n",
      "Setting up libdrm-intel1:amd64 (2.4.107-8ubuntu1~20.04.2) ...\n",
      "Setting up libgl1-mesa-dri:amd64 (21.2.6-0ubuntu0.1~20.04.2) ...\n",
      "Setting up libx11-dev:amd64 (2:1.6.9-2ubuntu1.2) ...\n",
      "Setting up libegl-mesa0:amd64 (21.2.6-0ubuntu0.1~20.04.2) ...\n",
      "Setting up libegl1:amd64 (1.3.2-1~ubuntu0.20.04.2) ...\n",
      "Setting up libglx-mesa0:amd64 (21.2.6-0ubuntu0.1~20.04.2) ...\n",
      "Setting up libglx0:amd64 (1.3.2-1~ubuntu0.20.04.2) ...\n",
      "Setting up libgl1:amd64 (1.3.2-1~ubuntu0.20.04.2) ...\n",
      "Setting up libglx-dev:amd64 (1.3.2-1~ubuntu0.20.04.2) ...\n",
      "Setting up libgl-dev:amd64 (1.3.2-1~ubuntu0.20.04.2) ...\n",
      "Setting up libegl-dev:amd64 (1.3.2-1~ubuntu0.20.04.2) ...\n",
      "Setting up libgles-dev:amd64 (1.3.2-1~ubuntu0.20.04.2) ...\n",
      "Setting up libglvnd-dev:amd64 (1.3.2-1~ubuntu0.20.04.2) ...\n",
      "Setting up libgl1-mesa-dev:amd64 (21.2.6-0ubuntu0.1~20.04.2) ...\n",
      "Processing triggers for libc-bin (2.31-0ubuntu9.2) ...\n",
      "Looking in indexes: https://pypi.org/simple, https://pypi.ngc.nvidia.com\n",
      "Collecting opencv-python-headless\n",
      "  Downloading opencv_python_headless-4.6.0.66-cp36-abi3-manylinux_2_17_x86_64.manylinux2014_x86_64.whl (48.3 MB)\n",
      "Collecting opencv-python\n",
      "  Downloading opencv_python-4.6.0.66-cp36-abi3-manylinux_2_17_x86_64.manylinux2014_x86_64.whl (60.9 MB)\n",
      "Requirement already satisfied: numpy>=1.14.5 in /opt/conda/lib/python3.8/site-packages (from opencv-python-headless) (1.22.2)\n",
      "Installing collected packages: opencv-python-headless, opencv-python\n",
      "Successfully installed opencv-python-4.6.0.66 opencv-python-headless-4.6.0.66\n"
     ]
    },
    {
     "name": "stderr",
     "output_type": "stream",
     "text": [
      "WARNING: Running pip as the 'root' user can result in broken permissions and conflicting behaviour with the system package manager. It is recommended to use a virtual environment instead: https://pip.pypa.io/warnings/venv\n"
     ]
    }
   ],
   "source": [
    "%%bash\n",
    "pwd\n",
    "# apt update\n",
    "# DEBIAN_FRONTEND=noninteractive apt-get install -y python3-opencv\n",
    "# #tz prompt. dpkg fix...\n",
    "# don't use gui version. pip install opencv-python\n",
    "# use headless\n",
    "apt update\n",
    "apt-get install -y libgl1-mesa-dev # libgl1-mesa-glx\n",
    "# pip uninstall opencv-python -y\n",
    "pip install opencv-python-headless opencv-python\n",
    "# #pip install cv2"
   ]
  },
  {
   "cell_type": "code",
   "execution_count": 2,
   "metadata": {
    "scrolled": true,
    "tags": []
   },
   "outputs": [],
   "source": [
    "#pip install pycocotools "
   ]
  },
  {
   "cell_type": "code",
   "execution_count": 3,
   "metadata": {
    "collapsed": true,
    "jupyter": {
     "outputs_hidden": true
    },
    "scrolled": true,
    "tags": []
   },
   "outputs": [
    {
     "name": "stdout",
     "output_type": "stream",
     "text": [
      "Looking in indexes: https://pypi.org/simple, https://pypi.ngc.nvidia.com\n",
      "Collecting albumentations\n",
      "  Downloading albumentations-1.2.1-py3-none-any.whl (116 kB)\n",
      "\u001b[K     |████████████████████████████████| 116 kB 25.7 MB/s eta 0:00:01\n",
      "\u001b[?25hRequirement already satisfied: numpy>=1.11.1 in /opt/conda/lib/python3.8/site-packages (from albumentations) (1.22.2)\n",
      "Requirement already satisfied: PyYAML in /opt/conda/lib/python3.8/site-packages (from albumentations) (5.4.1)\n",
      "Requirement already satisfied: opencv-python-headless>=4.1.1 in /opt/conda/lib/python3.8/site-packages (from albumentations) (4.6.0.66)\n",
      "Collecting scikit-image>=0.16.1\n",
      "  Downloading scikit_image-0.19.3-cp38-cp38-manylinux_2_17_x86_64.manylinux2014_x86_64.whl (14.0 MB)\n",
      "\u001b[K     |████████████████████████████████| 14.0 MB 20.4 MB/s eta 0:00:01\n",
      "\u001b[?25hRequirement already satisfied: scipy in /opt/conda/lib/python3.8/site-packages (from albumentations) (1.6.3)\n",
      "Collecting qudida>=0.0.4\n",
      "  Downloading qudida-0.0.4-py3-none-any.whl (3.5 kB)\n",
      "Requirement already satisfied: typing-extensions in /opt/conda/lib/python3.8/site-packages (from qudida>=0.0.4->albumentations) (4.0.1)\n",
      "Requirement already satisfied: scikit-learn>=0.19.1 in /opt/conda/lib/python3.8/site-packages (from qudida>=0.0.4->albumentations) (0.24.0)\n",
      "Collecting imageio>=2.4.1\n",
      "  Downloading imageio-2.21.1-py3-none-any.whl (3.4 MB)\n",
      "\u001b[K     |████████████████████████████████| 3.4 MB 32.7 MB/s eta 0:00:01\n",
      "\u001b[?25hCollecting PyWavelets>=1.1.1\n",
      "  Downloading PyWavelets-1.3.0-cp38-cp38-manylinux_2_17_x86_64.manylinux2014_x86_64.whl (6.9 MB)\n",
      "\u001b[K     |████████████████████████████████| 6.9 MB 16.7 MB/s eta 0:00:01\n",
      "\u001b[?25hCollecting tifffile>=2019.7.26\n",
      "  Downloading tifffile-2022.8.8-py3-none-any.whl (208 kB)\n",
      "\u001b[K     |████████████████████████████████| 208 kB 918 kB/s eta 0:00:01\n",
      "\u001b[?25hRequirement already satisfied: networkx>=2.2 in /opt/conda/lib/python3.8/site-packages (from scikit-image>=0.16.1->albumentations) (2.6.3)\n",
      "Requirement already satisfied: packaging>=20.0 in /opt/conda/lib/python3.8/site-packages (from scikit-image>=0.16.1->albumentations) (21.3)\n",
      "Requirement already satisfied: pillow!=7.1.0,!=7.1.1,!=8.3.0,>=6.1.0 in /opt/conda/lib/python3.8/site-packages (from scikit-image>=0.16.1->albumentations) (9.0.0)\n",
      "Requirement already satisfied: pyparsing!=3.0.5,>=2.0.2 in /opt/conda/lib/python3.8/site-packages (from packaging>=20.0->scikit-image>=0.16.1->albumentations) (3.0.7)\n",
      "Requirement already satisfied: threadpoolctl>=2.0.0 in /opt/conda/lib/python3.8/site-packages (from scikit-learn>=0.19.1->qudida>=0.0.4->albumentations) (3.1.0)\n",
      "Requirement already satisfied: joblib>=0.11 in /opt/conda/lib/python3.8/site-packages (from scikit-learn>=0.19.1->qudida>=0.0.4->albumentations) (1.1.0)\n",
      "Installing collected packages: tifffile, PyWavelets, imageio, scikit-image, qudida, albumentations\n",
      "Successfully installed PyWavelets-1.3.0 albumentations-1.2.1 imageio-2.21.1 qudida-0.0.4 scikit-image-0.19.3 tifffile-2022.8.8\n",
      "\u001b[33mWARNING: Running pip as the 'root' user can result in broken permissions and conflicting behaviour with the system package manager. It is recommended to use a virtual environment instead: https://pip.pypa.io/warnings/venv\u001b[0m\n",
      "Note: you may need to restart the kernel to use updated packages.\n"
     ]
    }
   ],
   "source": [
    "pip install  albumentations"
   ]
  },
  {
   "cell_type": "code",
   "execution_count": 4,
   "metadata": {
    "tags": []
   },
   "outputs": [],
   "source": [
    "# conda list"
   ]
  },
  {
   "cell_type": "code",
   "execution_count": 5,
   "metadata": {
    "tags": []
   },
   "outputs": [
    {
     "name": "stdout",
     "output_type": "stream",
     "text": [
      "# conda environments:\n",
      "#\n",
      "base                  *  /opt/conda\n",
      "\n",
      "\n",
      "Note: you may need to restart the kernel to use updated packages.\n"
     ]
    }
   ],
   "source": [
    "conda env list"
   ]
  },
  {
   "cell_type": "code",
   "execution_count": 6,
   "metadata": {
    "collapsed": true,
    "jupyter": {
     "outputs_hidden": true
    },
    "tags": []
   },
   "outputs": [
    {
     "name": "stdout",
     "output_type": "stream",
     "text": [
      "Looking in indexes: https://pypi.org/simple, https://pypi.ngc.nvidia.com\n",
      "Collecting opencv-python==4.5.5.64\n",
      "  Downloading opencv_python-4.5.5.64-cp36-abi3-manylinux_2_17_x86_64.manylinux2014_x86_64.whl (60.5 MB)\n",
      "\u001b[K     |████████████████████████████████| 60.5 MB 22.3 MB/s eta 0:00:01\n",
      "\u001b[?25hRequirement already satisfied: numpy>=1.17.3 in /opt/conda/lib/python3.8/site-packages (from opencv-python==4.5.5.64) (1.22.2)\n",
      "Installing collected packages: opencv-python\n",
      "  Attempting uninstall: opencv-python\n",
      "    Found existing installation: opencv-python 4.6.0.66\n",
      "    Uninstalling opencv-python-4.6.0.66:\n",
      "      Successfully uninstalled opencv-python-4.6.0.66\n",
      "Successfully installed opencv-python-4.5.5.64\n",
      "\u001b[33mWARNING: Running pip as the 'root' user can result in broken permissions and conflicting behaviour with the system package manager. It is recommended to use a virtual environment instead: https://pip.pypa.io/warnings/venv\u001b[0m\n",
      "Note: you may need to restart the kernel to use updated packages.\n"
     ]
    }
   ],
   "source": [
    "pip install opencv-python==4.5.5.64"
   ]
  },
  {
   "cell_type": "code",
   "execution_count": 7,
   "metadata": {
    "collapsed": true,
    "jupyter": {
     "outputs_hidden": true
    },
    "tags": []
   },
   "outputs": [
    {
     "name": "stdout",
     "output_type": "stream",
     "text": [
      "Looking in indexes: https://pypi.org/simple, https://pypi.ngc.nvidia.com\n",
      "Requirement already satisfied: ipywidgets in /opt/conda/lib/python3.8/site-packages (7.7.0)\n",
      "Requirement already satisfied: ipykernel>=4.5.1 in /opt/conda/lib/python3.8/site-packages (from ipywidgets) (6.9.0)\n",
      "Requirement already satisfied: ipython>=4.0.0 in /opt/conda/lib/python3.8/site-packages (from ipywidgets) (8.0.1)\n",
      "Requirement already satisfied: widgetsnbextension~=3.6.0 in /opt/conda/lib/python3.8/site-packages (from ipywidgets) (3.6.0)\n",
      "Requirement already satisfied: traitlets>=4.3.1 in /opt/conda/lib/python3.8/site-packages (from ipywidgets) (5.1.1)\n",
      "Requirement already satisfied: jupyterlab-widgets>=1.0.0 in /opt/conda/lib/python3.8/site-packages (from ipywidgets) (1.1.0)\n",
      "Requirement already satisfied: nbformat>=4.2.0 in /opt/conda/lib/python3.8/site-packages (from ipywidgets) (5.2.0)\n",
      "Requirement already satisfied: ipython-genutils~=0.2.0 in /opt/conda/lib/python3.8/site-packages (from ipywidgets) (0.2.0)\n",
      "Requirement already satisfied: matplotlib-inline<0.2.0,>=0.1.0 in /opt/conda/lib/python3.8/site-packages (from ipykernel>=4.5.1->ipywidgets) (0.1.3)\n",
      "Requirement already satisfied: debugpy<2.0,>=1.0.0 in /opt/conda/lib/python3.8/site-packages (from ipykernel>=4.5.1->ipywidgets) (1.5.1)\n",
      "Requirement already satisfied: jupyter-client<8.0 in /opt/conda/lib/python3.8/site-packages (from ipykernel>=4.5.1->ipywidgets) (7.1.2)\n",
      "Requirement already satisfied: nest-asyncio in /opt/conda/lib/python3.8/site-packages (from ipykernel>=4.5.1->ipywidgets) (1.5.4)\n",
      "Requirement already satisfied: tornado<7.0,>=4.2 in /opt/conda/lib/python3.8/site-packages (from ipykernel>=4.5.1->ipywidgets) (6.1)\n",
      "Requirement already satisfied: pexpect>4.3 in /opt/conda/lib/python3.8/site-packages (from ipython>=4.0.0->ipywidgets) (4.8.0)\n",
      "Requirement already satisfied: jedi>=0.16 in /opt/conda/lib/python3.8/site-packages (from ipython>=4.0.0->ipywidgets) (0.18.1)\n",
      "Requirement already satisfied: black in /opt/conda/lib/python3.8/site-packages (from ipython>=4.0.0->ipywidgets) (22.1.0)\n",
      "Requirement already satisfied: decorator in /opt/conda/lib/python3.8/site-packages (from ipython>=4.0.0->ipywidgets) (5.1.1)\n",
      "Requirement already satisfied: pygments in /opt/conda/lib/python3.8/site-packages (from ipython>=4.0.0->ipywidgets) (2.11.2)\n",
      "Requirement already satisfied: backcall in /opt/conda/lib/python3.8/site-packages (from ipython>=4.0.0->ipywidgets) (0.2.0)\n",
      "Requirement already satisfied: prompt-toolkit!=3.0.0,!=3.0.1,<3.1.0,>=2.0.0 in /opt/conda/lib/python3.8/site-packages (from ipython>=4.0.0->ipywidgets) (3.0.26)\n",
      "Requirement already satisfied: stack-data in /opt/conda/lib/python3.8/site-packages (from ipython>=4.0.0->ipywidgets) (0.1.4)\n",
      "Requirement already satisfied: pickleshare in /opt/conda/lib/python3.8/site-packages (from ipython>=4.0.0->ipywidgets) (0.7.5)\n",
      "Requirement already satisfied: setuptools>=18.5 in /opt/conda/lib/python3.8/site-packages (from ipython>=4.0.0->ipywidgets) (59.5.0)\n",
      "Requirement already satisfied: parso<0.9.0,>=0.8.0 in /opt/conda/lib/python3.8/site-packages (from jedi>=0.16->ipython>=4.0.0->ipywidgets) (0.8.3)\n",
      "Requirement already satisfied: python-dateutil>=2.1 in /opt/conda/lib/python3.8/site-packages (from jupyter-client<8.0->ipykernel>=4.5.1->ipywidgets) (2.8.2)\n",
      "Requirement already satisfied: entrypoints in /opt/conda/lib/python3.8/site-packages (from jupyter-client<8.0->ipykernel>=4.5.1->ipywidgets) (0.3)\n",
      "Requirement already satisfied: jupyter-core>=4.6.0 in /opt/conda/lib/python3.8/site-packages (from jupyter-client<8.0->ipykernel>=4.5.1->ipywidgets) (4.9.1)\n",
      "Requirement already satisfied: pyzmq>=13 in /opt/conda/lib/python3.8/site-packages (from jupyter-client<8.0->ipykernel>=4.5.1->ipywidgets) (22.3.0)\n",
      "Requirement already satisfied: jsonschema!=2.5.0,>=2.4 in /opt/conda/lib/python3.8/site-packages (from nbformat>=4.2.0->ipywidgets) (4.4.0)\n",
      "Requirement already satisfied: importlib-resources>=1.4.0 in /opt/conda/lib/python3.8/site-packages (from jsonschema!=2.5.0,>=2.4->nbformat>=4.2.0->ipywidgets) (5.4.0)\n",
      "Requirement already satisfied: attrs>=17.4.0 in /opt/conda/lib/python3.8/site-packages (from jsonschema!=2.5.0,>=2.4->nbformat>=4.2.0->ipywidgets) (18.2.0)\n",
      "Requirement already satisfied: pyrsistent!=0.17.0,!=0.17.1,!=0.17.2,>=0.14.0 in /opt/conda/lib/python3.8/site-packages (from jsonschema!=2.5.0,>=2.4->nbformat>=4.2.0->ipywidgets) (0.18.1)\n",
      "Requirement already satisfied: zipp>=3.1.0 in /opt/conda/lib/python3.8/site-packages (from importlib-resources>=1.4.0->jsonschema!=2.5.0,>=2.4->nbformat>=4.2.0->ipywidgets) (3.7.0)\n",
      "Requirement already satisfied: ptyprocess>=0.5 in /opt/conda/lib/python3.8/site-packages (from pexpect>4.3->ipython>=4.0.0->ipywidgets) (0.7.0)\n",
      "Requirement already satisfied: wcwidth in /opt/conda/lib/python3.8/site-packages (from prompt-toolkit!=3.0.0,!=3.0.1,<3.1.0,>=2.0.0->ipython>=4.0.0->ipywidgets) (0.2.5)\n",
      "Requirement already satisfied: six>=1.5 in /opt/conda/lib/python3.8/site-packages (from python-dateutil>=2.1->jupyter-client<8.0->ipykernel>=4.5.1->ipywidgets) (1.16.0)\n",
      "Requirement already satisfied: notebook>=4.4.1 in /opt/conda/lib/python3.8/site-packages (from widgetsnbextension~=3.6.0->ipywidgets) (6.4.1)\n",
      "Requirement already satisfied: jinja2 in /opt/conda/lib/python3.8/site-packages (from notebook>=4.4.1->widgetsnbextension~=3.6.0->ipywidgets) (3.0.3)\n",
      "Requirement already satisfied: prometheus-client in /opt/conda/lib/python3.8/site-packages (from notebook>=4.4.1->widgetsnbextension~=3.6.0->ipywidgets) (0.9.0)\n",
      "Requirement already satisfied: Send2Trash>=1.5.0 in /opt/conda/lib/python3.8/site-packages (from notebook>=4.4.1->widgetsnbextension~=3.6.0->ipywidgets) (1.8.0)\n",
      "Requirement already satisfied: terminado>=0.8.3 in /opt/conda/lib/python3.8/site-packages (from notebook>=4.4.1->widgetsnbextension~=3.6.0->ipywidgets) (0.13.1)\n",
      "Requirement already satisfied: argon2-cffi in /opt/conda/lib/python3.8/site-packages (from notebook>=4.4.1->widgetsnbextension~=3.6.0->ipywidgets) (21.3.0)\n",
      "Requirement already satisfied: nbconvert in /opt/conda/lib/python3.8/site-packages (from notebook>=4.4.1->widgetsnbextension~=3.6.0->ipywidgets) (6.4.2)\n",
      "Requirement already satisfied: argon2-cffi-bindings in /opt/conda/lib/python3.8/site-packages (from argon2-cffi->notebook>=4.4.1->widgetsnbextension~=3.6.0->ipywidgets) (21.2.0)\n",
      "Requirement already satisfied: cffi>=1.0.1 in /opt/conda/lib/python3.8/site-packages (from argon2-cffi-bindings->argon2-cffi->notebook>=4.4.1->widgetsnbextension~=3.6.0->ipywidgets) (1.15.0)\n",
      "Requirement already satisfied: pycparser in /opt/conda/lib/python3.8/site-packages (from cffi>=1.0.1->argon2-cffi-bindings->argon2-cffi->notebook>=4.4.1->widgetsnbextension~=3.6.0->ipywidgets) (2.21)\n",
      "Requirement already satisfied: platformdirs>=2 in /opt/conda/lib/python3.8/site-packages (from black->ipython>=4.0.0->ipywidgets) (2.4.1)\n",
      "Requirement already satisfied: tomli>=1.1.0 in /opt/conda/lib/python3.8/site-packages (from black->ipython>=4.0.0->ipywidgets) (2.0.1)\n",
      "Requirement already satisfied: typing-extensions>=3.10.0.0 in /opt/conda/lib/python3.8/site-packages (from black->ipython>=4.0.0->ipywidgets) (4.0.1)\n",
      "Requirement already satisfied: mypy-extensions>=0.4.3 in /opt/conda/lib/python3.8/site-packages (from black->ipython>=4.0.0->ipywidgets) (0.4.3)\n",
      "Requirement already satisfied: pathspec>=0.9.0 in /opt/conda/lib/python3.8/site-packages (from black->ipython>=4.0.0->ipywidgets) (0.9.0)\n",
      "Requirement already satisfied: click>=8.0.0 in /opt/conda/lib/python3.8/site-packages (from black->ipython>=4.0.0->ipywidgets) (8.0.3)\n",
      "Requirement already satisfied: MarkupSafe>=2.0 in /opt/conda/lib/python3.8/site-packages (from jinja2->notebook>=4.4.1->widgetsnbextension~=3.6.0->ipywidgets) (2.0.1)\n",
      "Requirement already satisfied: testpath in /opt/conda/lib/python3.8/site-packages (from nbconvert->notebook>=4.4.1->widgetsnbextension~=3.6.0->ipywidgets) (0.5.0)\n",
      "Requirement already satisfied: defusedxml in /opt/conda/lib/python3.8/site-packages (from nbconvert->notebook>=4.4.1->widgetsnbextension~=3.6.0->ipywidgets) (0.7.1)\n",
      "Requirement already satisfied: jupyterlab-pygments in /opt/conda/lib/python3.8/site-packages (from nbconvert->notebook>=4.4.1->widgetsnbextension~=3.6.0->ipywidgets) (0.1.2)\n",
      "Requirement already satisfied: mistune<2,>=0.8.1 in /opt/conda/lib/python3.8/site-packages (from nbconvert->notebook>=4.4.1->widgetsnbextension~=3.6.0->ipywidgets) (0.8.4)\n",
      "Requirement already satisfied: bleach in /opt/conda/lib/python3.8/site-packages (from nbconvert->notebook>=4.4.1->widgetsnbextension~=3.6.0->ipywidgets) (4.1.0)\n",
      "Requirement already satisfied: nbclient<0.6.0,>=0.5.0 in /opt/conda/lib/python3.8/site-packages (from nbconvert->notebook>=4.4.1->widgetsnbextension~=3.6.0->ipywidgets) (0.5.11)\n",
      "Requirement already satisfied: pandocfilters>=1.4.1 in /opt/conda/lib/python3.8/site-packages (from nbconvert->notebook>=4.4.1->widgetsnbextension~=3.6.0->ipywidgets) (1.5.0)\n",
      "Requirement already satisfied: packaging in /opt/conda/lib/python3.8/site-packages (from bleach->nbconvert->notebook>=4.4.1->widgetsnbextension~=3.6.0->ipywidgets) (21.3)\n",
      "Requirement already satisfied: webencodings in /opt/conda/lib/python3.8/site-packages (from bleach->nbconvert->notebook>=4.4.1->widgetsnbextension~=3.6.0->ipywidgets) (0.5.1)\n",
      "Requirement already satisfied: pyparsing!=3.0.5,>=2.0.2 in /opt/conda/lib/python3.8/site-packages (from packaging->bleach->nbconvert->notebook>=4.4.1->widgetsnbextension~=3.6.0->ipywidgets) (3.0.7)\n",
      "Requirement already satisfied: executing in /opt/conda/lib/python3.8/site-packages (from stack-data->ipython>=4.0.0->ipywidgets) (0.8.2)\n",
      "Requirement already satisfied: asttokens in /opt/conda/lib/python3.8/site-packages (from stack-data->ipython>=4.0.0->ipywidgets) (2.0.5)\n",
      "Requirement already satisfied: pure-eval in /opt/conda/lib/python3.8/site-packages (from stack-data->ipython>=4.0.0->ipywidgets) (0.2.2)\n",
      "\u001b[33mWARNING: Running pip as the 'root' user can result in broken permissions and conflicting behaviour with the system package manager. It is recommended to use a virtual environment instead: https://pip.pypa.io/warnings/venv\u001b[0m\n",
      "Note: you may need to restart the kernel to use updated packages.\n"
     ]
    }
   ],
   "source": [
    "pip install ipywidgets"
   ]
  },
  {
   "cell_type": "code",
   "execution_count": 8,
   "metadata": {},
   "outputs": [],
   "source": [
    "# !pip install -U  torch torchvision"
   ]
  },
  {
   "cell_type": "code",
   "execution_count": 9,
   "metadata": {},
   "outputs": [
    {
     "name": "stdout",
     "output_type": "stream",
     "text": [
      "Note: you may need to restart the kernel to use updated packages.\n"
     ]
    }
   ],
   "source": [
    "pip freeze >log/requirements$(date +\"__%Y.%m.%d_%b-%a_%H.%M.%S\")_02-aftr.txt"
   ]
  },
  {
   "cell_type": "code",
   "execution_count": 177,
   "metadata": {},
   "outputs": [],
   "source": [
    "\n",
    "\n",
    "\n",
    "\n",
    "#  Imports\n",
    "\n",
    "\n",
    "\n",
    "  \n"
   ]
  },
  {
   "cell_type": "code",
   "execution_count": 235,
   "metadata": {},
   "outputs": [
    {
     "name": "stdout",
     "output_type": "stream",
     "text": [
      "<module 'torch.version' from '/opt/conda/lib/python3.8/site-packages/torch/version.py'> <module 'torchvision.version' from '/opt/conda/lib/python3.8/site-packages/torchvision/version.py'>\n"
     ]
    }
   ],
   "source": [
    "print(torch.version, torchvision.version)"
   ]
  },
  {
   "cell_type": "code",
   "execution_count": 194,
   "metadata": {},
   "outputs": [
    {
     "name": "stdout",
     "output_type": "stream",
     "text": [
      "The autoreload extension is already loaded. To reload it, use:\n",
      "  %reload_ext autoreload\n"
     ]
    }
   ],
   "source": [
    "# reload python imports...\n",
    "%load_ext autoreload\n",
    "%autoreload 2"
   ]
  },
  {
   "cell_type": "code",
   "execution_count": 195,
   "metadata": {
    "tags": []
   },
   "outputs": [
    {
     "name": "stdout",
     "output_type": "stream",
     "text": [
      "/notebooks/ml639a/pt651m\n"
     ]
    }
   ],
   "source": [
    "# =================================================\n",
    "\n",
    "# Settings:\n",
    "\n",
    "# =================================================\n",
    "\n",
    "\n",
    "!pwd\n",
    "\n",
    "# files_dir = '../ir4/trainval/'\n",
    "# test_dir  = '../ir4/test/'\n",
    "\n",
    "\n",
    "files_dir = '../../imgdata/ir4f/train/'\n",
    "eval_dir = '../../imgdata/ir4f/eval/'\n",
    "#val = validate set - only used for final test..\n",
    "test_dir  = '../../imgdata/ir4f/holdout-test/'\n",
    "\n",
    "\n",
    "\n",
    "setwidth = 384\n",
    "setheight = 8064\n",
    "\n",
    "img_file_suffix = 'edit this below in the code'\n",
    "\n",
    "setclasses = \"  ****   edit below   **** self.classes = [_, 'Chip', 'Crack']  ****  \"  \n",
    "\n",
    "num_classes = 4\n",
    "\n",
    "# removed.. see eval\n",
    "#test_split = 0.5\n",
    "\n",
    "num_epochs = 25\n"
   ]
  },
  {
   "cell_type": "markdown",
   "metadata": {},
   "source": [
    "# Import the libraries"
   ]
  },
  {
   "cell_type": "code",
   "execution_count": 196,
   "metadata": {
    "tags": []
   },
   "outputs": [],
   "source": [
    "# Basic python and ML Libraries\n",
    "import os\n",
    "import random\n",
    "import numpy as np\n",
    "import pandas as pd\n",
    "# for ignoring warnings\n",
    "import warnings\n",
    "warnings.filterwarnings('ignore')\n",
    "\n",
    "# We will be reading images using OpenCV\n",
    "import cv2\n",
    "from PIL import Image\n",
    "\n",
    "# xml library for parsing xml files\n",
    "from xml.etree import ElementTree as et\n",
    "\n",
    "# matplotlib for visualization\n",
    "import matplotlib.pyplot as plt\n",
    "import matplotlib.patches as patches\n",
    "\n",
    "# torchvision libraries\n",
    "import torch\n",
    "import torchvision\n",
    "from torchvision import transforms as torchtrans  \n",
    "from torchvision.models.detection.faster_rcnn import FastRCNNPredictor\n",
    "\n",
    "# these are the helper libraries imported.\n",
    "from engine import train_one_epoch, evaluate\n",
    "import utils\n",
    "import transforms as T\n",
    "\n",
    "# for image augmentations\n",
    "import albumentations as A\n",
    "from albumentations.pytorch.transforms import ToTensorV2\n"
   ]
  },
  {
   "cell_type": "code",
   "execution_count": 197,
   "metadata": {
    "scrolled": true,
    "tags": []
   },
   "outputs": [
    {
     "name": "stdout",
     "output_type": "stream",
     "text": [
      "|===========================================================================|\n",
      "|                  PyTorch CUDA memory summary, device ID 0                 |\n",
      "|---------------------------------------------------------------------------|\n",
      "|            CUDA OOMs: 0            |        cudaMalloc retries: 0         |\n",
      "|===========================================================================|\n",
      "|        Metric         | Cur Usage  | Peak Usage | Tot Alloc  | Tot Freed  |\n",
      "|---------------------------------------------------------------------------|\n",
      "| Allocated memory      |  346247 KB |    2252 MB |     935 GB |     935 GB |\n",
      "|       from large pool |  326528 KB |    2134 MB |     911 GB |     911 GB |\n",
      "|       from small pool |   19719 KB |     130 MB |      23 GB |      23 GB |\n",
      "|---------------------------------------------------------------------------|\n",
      "| Active memory         |  346247 KB |    2252 MB |     935 GB |     935 GB |\n",
      "|       from large pool |  326528 KB |    2134 MB |     911 GB |     911 GB |\n",
      "|       from small pool |   19719 KB |     130 MB |      23 GB |      23 GB |\n",
      "|---------------------------------------------------------------------------|\n",
      "| GPU reserved memory   |  458752 KB |    2704 MB |    7748 MB |    7300 MB |\n",
      "|       from large pool |  417792 KB |    2572 MB |    7472 MB |    7064 MB |\n",
      "|       from small pool |   40960 KB |     132 MB |     276 MB |     236 MB |\n",
      "|---------------------------------------------------------------------------|\n",
      "| Non-releasable memory |  112504 KB |  485303 KB |     922 GB |     922 GB |\n",
      "|       from large pool |   91264 KB |  479468 KB |     897 GB |     897 GB |\n",
      "|       from small pool |   21240 KB |   31107 KB |      25 GB |      25 GB |\n",
      "|---------------------------------------------------------------------------|\n",
      "| Allocations           |     321    |    1517    |  454923    |  454602    |\n",
      "|       from large pool |      30    |     219    |   97146    |   97116    |\n",
      "|       from small pool |     291    |    1305    |  357777    |  357486    |\n",
      "|---------------------------------------------------------------------------|\n",
      "| Active allocs         |     321    |    1517    |  454923    |  454602    |\n",
      "|       from large pool |      30    |     219    |   97146    |   97116    |\n",
      "|       from small pool |     291    |    1305    |  357777    |  357486    |\n",
      "|---------------------------------------------------------------------------|\n",
      "| GPU reserved segments |      29    |     125    |     265    |     236    |\n",
      "|       from large pool |       9    |      59    |     127    |     118    |\n",
      "|       from small pool |      20    |      66    |     138    |     118    |\n",
      "|---------------------------------------------------------------------------|\n",
      "| Non-releasable allocs |      40    |      64    |  215225    |  215185    |\n",
      "|       from large pool |       8    |      26    |   50805    |   50797    |\n",
      "|       from small pool |      32    |      47    |  164420    |  164388    |\n",
      "|---------------------------------------------------------------------------|\n",
      "| Oversize allocations  |       0    |       0    |       0    |       0    |\n",
      "|---------------------------------------------------------------------------|\n",
      "| Oversize GPU segments |       0    |       0    |       0    |       0    |\n",
      "|===========================================================================|\n",
      "\n"
     ]
    }
   ],
   "source": [
    "print(torch.cuda.memory_summary())"
   ]
  },
  {
   "cell_type": "markdown",
   "metadata": {},
   "source": [
    "# Inspect one image.."
   ]
  },
  {
   "cell_type": "code",
   "execution_count": 272,
   "metadata": {},
   "outputs": [
    {
     "name": "stdout",
     "output_type": "stream",
     "text": [
      "(7990, 260, 3)\n",
      "PNG\n",
      "../../imgdata/ir4f/train/inner_rim_210805T103949.png\n"
     ]
    }
   ],
   "source": [
    "imgs = [image for image in sorted(os.listdir(files_dir))\n",
    "                    if image[-4:]=='.png']\n",
    "\n",
    "img_name = imgs[2]\n",
    "image_path = os.path.join(files_dir, img_name)\n",
    "\n",
    "# reading the images and converting them to correct size and color    \n",
    "import cv2\n",
    "img = cv2.imread(image_path)\n",
    "imgp = Image.open(image_path)\n",
    "img_rgb = cv2.cvtColor(img, cv2.COLOR_BGR2RGB).astype(np.float32)\n",
    "#img_res = cv2.resize(img_rgb, (width, height), cv2.INTER_AREA)\n",
    "# dividing by 255 to rescale these to 0 to 1..\n",
    "# img_res /= 255.0\n",
    "\n",
    "print( img.shape)\n",
    "print( imgp.format)\n",
    "print( image_path)\n"
   ]
  },
  {
   "cell_type": "code",
   "execution_count": 278,
   "metadata": {
    "_cell_guid": "79c7e3d0-c299-4dcb-8224-4455121ee9b0",
    "_uuid": "d629ff2d2480ee46fbb7e2d37f6b5fab8052498a",
    "scrolled": true
   },
   "outputs": [],
   "source": [
    "\n",
    "class AaImagesDataset(torch.utils.data.Dataset):\n",
    "\n",
    "    def __init__(self, files_dir, width, height, transforms=None):\n",
    "        self.transforms = transforms\n",
    "        self.files_dir = files_dir\n",
    "        self.height = height\n",
    "        self.width = width\n",
    "        \n",
    "        # sorting the images for consistency\n",
    "        # To get images, the extension of the filename is checked to be jpg\n",
    "        self.imgs = [image for image in sorted(os.listdir(files_dir))\n",
    "                        if image[-4:]=='.png']\n",
    "        \n",
    "        # classes: 0 index is reserved for background\n",
    "        self.classes = [_,'GoodImage','Crack','Chip']\n",
    "        self.file_imglist = open(\"imglist.txt\", \"a\")\n",
    "\n",
    "\n",
    "    def __getitem__(self, idx):\n",
    "\n",
    "        img_name = self.imgs[idx]\n",
    "        image_path = os.path.join(self.files_dir, img_name)\n",
    "\n",
    "        # reading the images and converting them to correct size and color    \n",
    "        img = cv2.imread(image_path)\n",
    "        imgp = Image.open(image_path)\n",
    "        #print(idx, imgp.format)\n",
    "        img_rgb = cv2.cvtColor(img, cv2.COLOR_BGR2RGB).astype(np.float32)\n",
    "        img_res = cv2.resize(img_rgb, (self.width, self.height), cv2.INTER_AREA)\n",
    "        # dividing by 255 to rescale these to 0 to 1..\n",
    "        img_res /= 255.0\n",
    "        \n",
    "        # annotation file\n",
    "        annot_filename = img_name[:-4] + '.xml'\n",
    "        annot_file_path = os.path.join(self.files_dir, annot_filename)\n",
    "        boxes = []\n",
    "        labels = []\n",
    "        if os.path.exists(annot_file_path):\n",
    "            tree = et.parse(annot_file_path)\n",
    "            root = tree.getroot()\n",
    "            # cv2 image gives size as height x width\n",
    "            wt = img.shape[1]\n",
    "            ht = img.shape[0]\n",
    "            # box coordinates for xml files are extracted and corrected for image size given\n",
    "            for member in root.findall('object'):\n",
    "                labels.append(self.classes.index(member.find('name').text))\n",
    "                # bounding box\n",
    "                xmin = int(member.find('bndbox').find('xmin').text)\n",
    "                xmax = int(member.find('bndbox').find('xmax').text)\n",
    "                ymin = int(member.find('bndbox').find('ymin').text)\n",
    "                ymax = int(member.find('bndbox').find('ymax').text)\n",
    "                xmin_corr = (xmin/wt)*self.width\n",
    "                xmax_corr = (xmax/wt)*self.width\n",
    "                ymin_corr = (ymin/ht)*self.height\n",
    "                ymax_corr = (ymax/ht)*self.height\n",
    "                boxes.append([xmin_corr, ymin_corr, xmax_corr, ymax_corr])\n",
    "            # convert boxes into a torch.Tensor\n",
    "            boxes = torch.as_tensor(boxes, dtype=torch.float32)\n",
    "            # getting the areas of the boxes\n",
    "            area = (boxes[:, 3] - boxes[:, 1]) * (boxes[:, 2] - boxes[:, 0])\n",
    "            # suppose all instances are not crowd\n",
    "            iscrowd = torch.zeros((boxes.shape[0],), dtype=torch.int64)\n",
    "            labels = torch.as_tensor(labels, dtype=torch.int64)\n",
    "            \n",
    "            target = {}\n",
    "            target[\"boxes\"] = boxes\n",
    "            target[\"labels\"] = labels\n",
    "            target[\"area\"] = area\n",
    "            target[\"iscrowd\"] = iscrowd\n",
    "            # image_id\n",
    "            image_id = torch.tensor([idx])\n",
    "            target[\"image_id\"] = image_id\n",
    "            #target[\"image_fname\"] = image_path\n",
    "            # meta = {}\n",
    "            # meta[\"imagefanme\"] = image_path\n",
    "        \n",
    "        else:  \n",
    "            # boxes = torch.zeros((0, 4), dtype=torch.float32) \n",
    "            # boxes = np.array([]).reshape(-1, 4)\n",
    "            # boxes = torch.empty((0, 4), dtype=torch.float32)\n",
    "            # boxes = torch.zeros((0, 4), dtype=torch.float32) \n",
    "            # boxes = torch.as_tensor(boxes, dtype=torch.float32)\n",
    "            # labels = torch.zeros(0, dtype=torch.int64)\n",
    "            # iscrowd = torch.zeros((0,), dtype=torch.int64) \n",
    "            # area = (boxes[:, 3] - boxes[:, 1]) * (boxes[:, 2] - boxes[:, 0])\n",
    "            \n",
    "            image_id = torch.tensor([idx])\n",
    "            \n",
    "            target = {\"boxes\": torch.zeros((0, 4), dtype=torch.float32),\n",
    "              \"labels\": torch.zeros(0, dtype=torch.int64),\n",
    "              \"image_id\": torch.tensor([idx]),\n",
    "              \"area\": torch.zeros(0, dtype=torch.float32),\n",
    "              \"keypoints\": torch.zeros((17, 0, 3), dtype=torch.float32),\n",
    "              \"iscrowd\": torch.zeros((0,), dtype=torch.int64)}\n",
    "            \n",
    "        \n",
    "        self.file_imglist.write(f\"{image_id},{image_path}\\n\")\n",
    "        \n",
    "        if self.transforms:\n",
    "            sample = self.transforms(image = img_res,\n",
    "                                     bboxes = target['boxes'],\n",
    "                                     labels = labels)\n",
    "            img_res = sample['image']\n",
    "            target['boxes'] = torch.Tensor(sample['bboxes'])\n",
    "                       \n",
    "        return img_res, target\n",
    "\n",
    "    def __len__(self):\n",
    "        return len(self.imgs)\n"
   ]
  },
  {
   "cell_type": "code",
   "execution_count": 279,
   "metadata": {},
   "outputs": [
    {
     "name": "stdout",
     "output_type": "stream",
     "text": [
      "length of dataset =  5 \n",
      "\n",
      "(8064, 384, 3) \n",
      " {'boxes': tensor([], size=(0, 4)), 'labels': tensor([], dtype=torch.int64), 'image_id': tensor([2]), 'area': tensor([]), 'keypoints': tensor([], size=(17, 0, 3)), 'iscrowd': tensor([], dtype=torch.int64)}\n",
      "boxes tensor([], size=(0, 4))\n",
      "labels tensor([], dtype=torch.int64)\n",
      "image_id tensor([2])\n",
      "area tensor([])\n",
      "keypoints tensor([], size=(17, 0, 3))\n",
      "iscrowd tensor([], dtype=torch.int64)\n",
      "(8064, 384, 3) \n",
      " {'boxes': tensor([[1.4769e+00, 6.8266e+03, 2.5551e+02, 7.0295e+03]]), 'labels': tensor([3]), 'area': tensor([51533.0195]), 'iscrowd': tensor([0]), 'image_id': tensor([0])}\n",
      "(8064, 384, 3) \n",
      " {'boxes': tensor([[1.4769e+00, 1.3615e+03, 2.9095e+02, 1.7632e+03]]), 'labels': tensor([3]), 'area': tensor([116278.8359]), 'iscrowd': tensor([0]), 'image_id': tensor([1])}\n",
      "(8064, 384, 3) \n",
      " {'boxes': tensor([], size=(0, 4)), 'labels': tensor([], dtype=torch.int64), 'image_id': tensor([2]), 'area': tensor([]), 'keypoints': tensor([], size=(17, 0, 3)), 'iscrowd': tensor([], dtype=torch.int64)}\n",
      "(8064, 384, 3) \n",
      " {'boxes': tensor([[1.4769e+00, 4.9494e+03, 2.8652e+02, 5.3693e+03]]), 'labels': tensor([3]), 'area': tensor([119677.3438]), 'iscrowd': tensor([0]), 'image_id': tensor([3])}\n",
      "(8064, 384, 3) \n",
      " {'boxes': tensor([[1.4769e+00, 4.9494e+03, 2.8357e+02, 5.3420e+03]]), 'labels': tensor([3]), 'area': tensor([110750.1562]), 'iscrowd': tensor([0]), 'image_id': tensor([4])}\n"
     ]
    }
   ],
   "source": [
    "\n",
    "# check dataset\n",
    "dataset = AaImagesDataset(files_dir, setwidth, setheight)\n",
    "print('length of dataset = ', len(dataset), '\\n')\n",
    "\n",
    "# getting the image and target for a test index.  Feel free to change the index.\n",
    "img, target = dataset[2]\n",
    "print(img.shape, '\\n',target)\n",
    "for k,v in target.items():\n",
    "    print (k,v)\n",
    "    \n",
    "for img, target in dataset:\n",
    "    print(img.shape, '\\n',target)\n"
   ]
  },
  {
   "cell_type": "code",
   "execution_count": 280,
   "metadata": {},
   "outputs": [
    {
     "name": "stdout",
     "output_type": "stream",
     "text": [
      "length of dataset =  5 \n",
      "\n",
      "(8064, 384, 3) \n",
      " {'boxes': tensor([[1.4769e+00, 4.9494e+03, 2.8652e+02, 5.3693e+03]]), 'labels': tensor([3]), 'area': tensor([119677.3438]), 'iscrowd': tensor([0]), 'image_id': tensor([3])}\n",
      "boxes tensor([[1.4769e+00, 4.9494e+03, 2.8652e+02, 5.3693e+03]])\n",
      "labels tensor([3])\n",
      "area tensor([119677.3438])\n",
      "iscrowd tensor([0])\n",
      "image_id tensor([3])\n"
     ]
    }
   ],
   "source": [
    "\n",
    "# check dataset for another\n",
    "\n",
    "dataset = AaImagesDataset(files_dir, setwidth, setheight)\n",
    "print('length of dataset = ', len(dataset), '\\n')\n",
    "\n",
    "# getting the image and target for a test index.  Feel free to change the index.\n",
    "img, target = dataset[3]\n",
    "print(img.shape, '\\n',target)\n",
    "\n",
    "\n",
    "for k,v in target.items():\n",
    "    print (k,v)\n",
    "    "
   ]
  },
  {
   "cell_type": "markdown",
   "metadata": {},
   "source": [
    "Points to be noted -\n",
    "1. The dataset returns a tuple. The first element is the image shape and the second element is a dictionary.\n",
    "2. The image is of the size, we provided while defining the dataset and the color mode is RGB.\n",
    "3. There are four bounding boxes in the image which is evident from four lists in boxes and length of labels."
   ]
  },
  {
   "cell_type": "markdown",
   "metadata": {},
   "source": [
    "\n",
    "Let's now see, what our data looks like. The function is inspired from [here](https://www.kaggle.com/kiwifairy/visualize-x-ray-image-with-bounding-boxes)"
   ]
  },
  {
   "cell_type": "markdown",
   "metadata": {},
   "source": [
    "# Dataset Visualization"
   ]
  },
  {
   "cell_type": "code",
   "execution_count": null,
   "metadata": {},
   "outputs": [],
   "source": [
    "# Function to visualize bounding boxes in the image\n",
    "\n",
    "def plot_img_bbox(img, target):\n",
    "    # plot the image and bboxes\n",
    "    # Bounding boxes are defined as follows: x-min y-min width height\n",
    "    fig, a = plt.subplots(1,1)\n",
    "    fig.set_size_inches(15,15)\n",
    "    a.imshow(img)\n",
    "    for box in ((target['boxes']).cpu()):\n",
    "        print(box)\n",
    "        x, y, width, height  = box[0], box[1], box[2]-box[0], box[3]-box[1]\n",
    "        rect = patches.Rectangle((x, y),\n",
    "                                 width, height,\n",
    "                                 linewidth = 2,\n",
    "                                 edgecolor = 'r',\n",
    "                                 facecolor = 'none')\n",
    "\n",
    "        # Draw the bounding box on top of the image\n",
    "        a.add_patch(rect)\n",
    "    plt.show()\n",
    "    \n",
    "# plotting the image with bboxes. Feel free to change the index\n",
    "img, target = dataset[1]\n",
    "plot_img_bbox(img, target)\n",
    "print(\"img:\",img,\"targ:\",target)"
   ]
  },
  {
   "cell_type": "markdown",
   "metadata": {},
   "source": [
    "# Prep Model"
   ]
  },
  {
   "cell_type": "code",
   "execution_count": 282,
   "metadata": {},
   "outputs": [],
   "source": [
    "\n",
    "def get_object_detection_model(num_classes):\n",
    "\n",
    "    # load a model pre-trained pre-trained on COCO\n",
    "    model = torchvision.models.detection.fasterrcnn_resnet50_fpn(pretrained=True)\n",
    "    \n",
    "    # get number of input features for the classifier\n",
    "    in_features = model.roi_heads.box_predictor.cls_score.in_features\n",
    "    # replace the pre-trained head with a new one\n",
    "    model.roi_heads.box_predictor = FastRCNNPredictor(in_features, num_classes) \n",
    "\n",
    "    return model"
   ]
  },
  {
   "cell_type": "markdown",
   "metadata": {},
   "source": [
    "# Dataset Augmentations"
   ]
  },
  {
   "cell_type": "markdown",
   "metadata": {},
   "source": [
    "This is where we can apply augmentations to the image. \n",
    "\n",
    "The augmentations to object detection vary from normal augmentations becuase here we need to ensure that, bbox still aligns with the object correctly after transforming.\n",
    "\n",
    "Here I have added random flip transform, feel free to customize it as you feel\n",
    "\n"
   ]
  },
  {
   "cell_type": "code",
   "execution_count": 283,
   "metadata": {},
   "outputs": [],
   "source": [
    "# Send train=True fro training transforms and False for val/test transforms\n",
    "def get_transform(train):\n",
    "    \n",
    "    if train:\n",
    "        return A.Compose([\n",
    "                            A.HorizontalFlip(0.5),\n",
    "                     # ToTensorV2 converts image to pytorch tensor without div by 255\n",
    "                            ToTensorV2(p=1.0) \n",
    "                        ], bbox_params={'format': 'pascal_voc', 'label_fields': ['labels']})\n",
    "    else:\n",
    "        return A.Compose([\n",
    "                            ToTensorV2(p=1.0)\n",
    "                        ], bbox_params={'format': 'pascal_voc', 'label_fields': ['labels']})"
   ]
  },
  {
   "cell_type": "markdown",
   "metadata": {},
   "source": [
    "# Preparing dataset"
   ]
  },
  {
   "cell_type": "code",
   "execution_count": 284,
   "metadata": {},
   "outputs": [],
   "source": [
    "# use our dataset and defined transformations\n",
    "# train is split...\n",
    "dataset_in = AaImagesDataset(files_dir,  setwidth, setheight, transforms= get_transform(train=True))\n",
    "# val is used at the end.\n",
    "dataset_eval = AaImagesDataset(eval_dir, setwidth, setheight, transforms= get_transform(train=True))\n",
    "\n",
    "# split the dataset in train and test set\n",
    "#torch.manual_seed(1)\n",
    "#indices = torch.randperm(len(dataset)).tolist()\n",
    "\n",
    "# train test split\n",
    "# test_split = 0.5\n",
    "# tsize = int(len(dataset_in))\n",
    "# dataset = torch.utils.data.Subset(dataset_in, indices[:-tsize])\n",
    "\n",
    "# tsize = int(len(dataset_eval))\n",
    "# dataset_eval = torch.utils.data.Subset(dataset_eval_in, indices[-tsize:])\n",
    "\n",
    "# define training and validation data loaders\n",
    "data_loader = torch.utils.data.DataLoader(\n",
    "    dataset_in, batch_size=10, shuffle=True, num_workers=4,\n",
    "    collate_fn=utils.collate_fn)\n",
    "\n",
    "data_loader_eval = torch.utils.data.DataLoader(\n",
    "    dataset_eval, batch_size=10, shuffle=False, num_workers=4,\n",
    "    collate_fn=utils.collate_fn)"
   ]
  },
  {
   "cell_type": "markdown",
   "metadata": {},
   "source": [
    "# Prep Training"
   ]
  },
  {
   "cell_type": "code",
   "execution_count": 285,
   "metadata": {},
   "outputs": [],
   "source": [
    "# to train on gpu if selected.\n",
    "device = torch.device('cuda') if torch.cuda.is_available() else torch.device('cpu')\n",
    "\n",
    "# get the model using our helper function\n",
    "model = get_object_detection_model(num_classes)\n",
    "\n",
    "# move model to the right device\n",
    "model.to(device)\n",
    "\n",
    "# construct an optimizer\n",
    "params = [p for p in model.parameters() if p.requires_grad]\n",
    "optimizer = torch.optim.SGD(params, lr=0.005,\n",
    "                            momentum=0.9, weight_decay=0.0005)\n",
    "\n",
    "# and a learning rate scheduler which decreases the learning rate by\n",
    "# 10x every 3 epochs\n",
    "lr_scheduler = torch.optim.lr_scheduler.StepLR(optimizer,\n",
    "                                               step_size=3,\n",
    "                                               gamma=0.1)"
   ]
  },
  {
   "cell_type": "code",
   "execution_count": 286,
   "metadata": {},
   "outputs": [],
   "source": [
    "# !export PYTORCH_CUDA_ALLOC_CONF=max_split_size_mb:128"
   ]
  },
  {
   "cell_type": "markdown",
   "metadata": {},
   "source": [
    "# Run the training......."
   ]
  },
  {
   "cell_type": "code",
   "execution_count": 287,
   "metadata": {},
   "outputs": [
    {
     "name": "stdout",
     "output_type": "stream",
     "text": [
      "Fri Aug 12 19:48:54 UTC 2022\n"
     ]
    }
   ],
   "source": [
    "!date"
   ]
  },
  {
   "cell_type": "code",
   "execution_count": 288,
   "metadata": {},
   "outputs": [
    {
     "name": "stdout",
     "output_type": "stream",
     "text": [
      "Fri Aug 12 19:48:55 UTC 2022\n"
     ]
    },
    {
     "ename": "ValueError",
     "evalue": "Expected target boxes to be a tensor of shape [N, 4], got torch.Size([0]).",
     "output_type": "error",
     "traceback": [
      "\u001b[0;31m---------------------------------------------------------------------------\u001b[0m",
      "\u001b[0;31mValueError\u001b[0m                                Traceback (most recent call last)",
      "Input \u001b[0;32mIn [288]\u001b[0m, in \u001b[0;36m<module>\u001b[0;34m\u001b[0m\n\u001b[1;32m      4\u001b[0m torch\u001b[38;5;241m.\u001b[39mcuda\u001b[38;5;241m.\u001b[39mempty_cache()\n\u001b[1;32m      6\u001b[0m \u001b[38;5;28;01mfor\u001b[39;00m epoch \u001b[38;5;129;01min\u001b[39;00m \u001b[38;5;28mrange\u001b[39m(num_epochs):\n\u001b[1;32m      7\u001b[0m     \u001b[38;5;66;03m# training for one epoch\u001b[39;00m\n\u001b[0;32m----> 8\u001b[0m     \u001b[43mtrain_one_epoch\u001b[49m\u001b[43m(\u001b[49m\u001b[43mmodel\u001b[49m\u001b[43m,\u001b[49m\u001b[43m \u001b[49m\u001b[43moptimizer\u001b[49m\u001b[43m,\u001b[49m\u001b[43m \u001b[49m\u001b[43mdata_loader\u001b[49m\u001b[43m,\u001b[49m\u001b[43m \u001b[49m\u001b[43mdevice\u001b[49m\u001b[43m,\u001b[49m\u001b[43m \u001b[49m\u001b[43mepoch\u001b[49m\u001b[43m,\u001b[49m\u001b[43m \u001b[49m\u001b[43mprint_freq\u001b[49m\u001b[38;5;241;43m=\u001b[39;49m\u001b[38;5;241;43m10\u001b[39;49m\u001b[43m)\u001b[49m\n\u001b[1;32m      9\u001b[0m     \u001b[38;5;66;03m# update the learning rate\u001b[39;00m\n\u001b[1;32m     10\u001b[0m     lr_scheduler\u001b[38;5;241m.\u001b[39mstep()\n",
      "File \u001b[0;32m/notebooks/ml639a/pt651m/engine.py:31\u001b[0m, in \u001b[0;36mtrain_one_epoch\u001b[0;34m(model, optimizer, data_loader, device, epoch, print_freq, scaler)\u001b[0m\n\u001b[1;32m     29\u001b[0m targets \u001b[38;5;241m=\u001b[39m [{k: v\u001b[38;5;241m.\u001b[39mto(device) \u001b[38;5;28;01mfor\u001b[39;00m k, v \u001b[38;5;129;01min\u001b[39;00m t\u001b[38;5;241m.\u001b[39mitems()} \u001b[38;5;28;01mfor\u001b[39;00m t \u001b[38;5;129;01min\u001b[39;00m targets]\n\u001b[1;32m     30\u001b[0m \u001b[38;5;28;01mwith\u001b[39;00m torch\u001b[38;5;241m.\u001b[39mcuda\u001b[38;5;241m.\u001b[39mamp\u001b[38;5;241m.\u001b[39mautocast(enabled\u001b[38;5;241m=\u001b[39mscaler \u001b[38;5;129;01mis\u001b[39;00m \u001b[38;5;129;01mnot\u001b[39;00m \u001b[38;5;28;01mNone\u001b[39;00m):\n\u001b[0;32m---> 31\u001b[0m     loss_dict \u001b[38;5;241m=\u001b[39m \u001b[43mmodel\u001b[49m\u001b[43m(\u001b[49m\u001b[43mimages\u001b[49m\u001b[43m,\u001b[49m\u001b[43m \u001b[49m\u001b[43mtargets\u001b[49m\u001b[43m)\u001b[49m\n\u001b[1;32m     32\u001b[0m     losses \u001b[38;5;241m=\u001b[39m \u001b[38;5;28msum\u001b[39m(loss \u001b[38;5;28;01mfor\u001b[39;00m loss \u001b[38;5;129;01min\u001b[39;00m loss_dict\u001b[38;5;241m.\u001b[39mvalues())\n\u001b[1;32m     34\u001b[0m \u001b[38;5;66;03m# reduce losses over all GPUs for logging purposes\u001b[39;00m\n",
      "File \u001b[0;32m/opt/conda/lib/python3.8/site-packages/torch/nn/modules/module.py:1110\u001b[0m, in \u001b[0;36mModule._call_impl\u001b[0;34m(self, *input, **kwargs)\u001b[0m\n\u001b[1;32m   1106\u001b[0m \u001b[38;5;66;03m# If we don't have any hooks, we want to skip the rest of the logic in\u001b[39;00m\n\u001b[1;32m   1107\u001b[0m \u001b[38;5;66;03m# this function, and just call forward.\u001b[39;00m\n\u001b[1;32m   1108\u001b[0m \u001b[38;5;28;01mif\u001b[39;00m \u001b[38;5;129;01mnot\u001b[39;00m (\u001b[38;5;28mself\u001b[39m\u001b[38;5;241m.\u001b[39m_backward_hooks \u001b[38;5;129;01mor\u001b[39;00m \u001b[38;5;28mself\u001b[39m\u001b[38;5;241m.\u001b[39m_forward_hooks \u001b[38;5;129;01mor\u001b[39;00m \u001b[38;5;28mself\u001b[39m\u001b[38;5;241m.\u001b[39m_forward_pre_hooks \u001b[38;5;129;01mor\u001b[39;00m _global_backward_hooks\n\u001b[1;32m   1109\u001b[0m         \u001b[38;5;129;01mor\u001b[39;00m _global_forward_hooks \u001b[38;5;129;01mor\u001b[39;00m _global_forward_pre_hooks):\n\u001b[0;32m-> 1110\u001b[0m     \u001b[38;5;28;01mreturn\u001b[39;00m \u001b[43mforward_call\u001b[49m\u001b[43m(\u001b[49m\u001b[38;5;241;43m*\u001b[39;49m\u001b[38;5;28;43minput\u001b[39;49m\u001b[43m,\u001b[49m\u001b[43m \u001b[49m\u001b[38;5;241;43m*\u001b[39;49m\u001b[38;5;241;43m*\u001b[39;49m\u001b[43mkwargs\u001b[49m\u001b[43m)\u001b[49m\n\u001b[1;32m   1111\u001b[0m \u001b[38;5;66;03m# Do not call functions when jit is used\u001b[39;00m\n\u001b[1;32m   1112\u001b[0m full_backward_hooks, non_full_backward_hooks \u001b[38;5;241m=\u001b[39m [], []\n",
      "File \u001b[0;32m/opt/conda/lib/python3.8/site-packages/torchvision/models/detection/generalized_rcnn.py:68\u001b[0m, in \u001b[0;36mGeneralizedRCNN.forward\u001b[0;34m(self, images, targets)\u001b[0m\n\u001b[1;32m     66\u001b[0m \u001b[38;5;28;01mif\u001b[39;00m \u001b[38;5;28misinstance\u001b[39m(boxes, torch\u001b[38;5;241m.\u001b[39mTensor):\n\u001b[1;32m     67\u001b[0m     \u001b[38;5;28;01mif\u001b[39;00m \u001b[38;5;28mlen\u001b[39m(boxes\u001b[38;5;241m.\u001b[39mshape) \u001b[38;5;241m!=\u001b[39m \u001b[38;5;241m2\u001b[39m \u001b[38;5;129;01mor\u001b[39;00m boxes\u001b[38;5;241m.\u001b[39mshape[\u001b[38;5;241m-\u001b[39m\u001b[38;5;241m1\u001b[39m] \u001b[38;5;241m!=\u001b[39m \u001b[38;5;241m4\u001b[39m:\n\u001b[0;32m---> 68\u001b[0m         \u001b[38;5;28;01mraise\u001b[39;00m \u001b[38;5;167;01mValueError\u001b[39;00m(\u001b[38;5;124mf\u001b[39m\u001b[38;5;124m\"\u001b[39m\u001b[38;5;124mExpected target boxes to be a tensor of shape [N, 4], got \u001b[39m\u001b[38;5;132;01m{\u001b[39;00mboxes\u001b[38;5;241m.\u001b[39mshape\u001b[38;5;132;01m}\u001b[39;00m\u001b[38;5;124m.\u001b[39m\u001b[38;5;124m\"\u001b[39m)\n\u001b[1;32m     69\u001b[0m \u001b[38;5;28;01melse\u001b[39;00m:\n\u001b[1;32m     70\u001b[0m     \u001b[38;5;28;01mraise\u001b[39;00m \u001b[38;5;167;01mValueError\u001b[39;00m(\u001b[38;5;124mf\u001b[39m\u001b[38;5;124m\"\u001b[39m\u001b[38;5;124mExpected target boxes to be of type Tensor, got \u001b[39m\u001b[38;5;132;01m{\u001b[39;00m\u001b[38;5;28mtype\u001b[39m(boxes)\u001b[38;5;132;01m}\u001b[39;00m\u001b[38;5;124m.\u001b[39m\u001b[38;5;124m\"\u001b[39m)\n",
      "\u001b[0;31mValueError\u001b[0m: Expected target boxes to be a tensor of shape [N, 4], got torch.Size([0])."
     ]
    }
   ],
   "source": [
    "!date\n",
    "\n",
    "# !export PYTORCH_CUDA_ALLOC_CONF=max_split_size_mb:128\n",
    "torch.cuda.empty_cache()\n",
    "    \n",
    "for epoch in range(num_epochs):\n",
    "    # training for one epoch\n",
    "    train_one_epoch(model, optimizer, data_loader, device, epoch, print_freq=10)\n",
    "    # update the learning rate\n",
    "    lr_scheduler.step()\n",
    "    # evaluate on the test dataset\n",
    "    evaluate(model, data_loader_eval, device=device)\n",
    "    \n",
    "\n",
    "print('reached.end.')\n",
    "!date"
   ]
  },
  {
   "cell_type": "markdown",
   "metadata": {},
   "source": [
    "\n",
    "# Comments\n",
    "\n",
    "An AP of 0.78-0.80 is not bad but perhaps we can make it even better with more augmentations, I will leave that to you."
   ]
  },
  {
   "cell_type": "markdown",
   "metadata": {},
   "source": [
    "# Decode predictions"
   ]
  },
  {
   "cell_type": "markdown",
   "metadata": {},
   "source": [
    "Our model predicts a lot of bounding boxes per image, to take out the overlapping ones, We will use **Non Max Suppression** if you want to brush up on that, check [this](https://towardsdatascience.com/non-maximum-suppression-nms-93ce178e177c) out.\n",
    "\n",
    "Torchvision provides us a utility to apply nms to our predictions, lets build a function `apply_nms` using that."
   ]
  },
  {
   "cell_type": "code",
   "execution_count": null,
   "metadata": {},
   "outputs": [],
   "source": [
    "# the function takes the original prediction and the iou threshold.\n",
    "\n",
    "def apply_nms(orig_prediction, iou_thresh=0.3):\n",
    "    \n",
    "    # torchvision returns the indices of the bboxes to keep\n",
    "    keep = torchvision.ops.nms(orig_prediction['boxes'], orig_prediction['scores'], iou_thresh)\n",
    "    \n",
    "    final_prediction = orig_prediction\n",
    "    final_prediction['boxes'] = final_prediction['boxes'][keep]\n",
    "    final_prediction['scores'] = final_prediction['scores'][keep]\n",
    "    final_prediction['labels'] = final_prediction['labels'][keep]\n",
    "    \n",
    "    return final_prediction\n",
    "\n",
    "# function to convert a torchtensor back to PIL image\n",
    "def torch_to_pil(img):\n",
    "    return torchtrans.ToPILImage()(img).convert('RGB')"
   ]
  },
  {
   "cell_type": "markdown",
   "metadata": {},
   "source": [
    "# Testing our Generated/trained Model"
   ]
  },
  {
   "cell_type": "markdown",
   "metadata": {},
   "source": [
    "Lets take an image from our test dataset and see, how our model does.\n",
    "We will first see, how many bounding boxes does our model predict compared to actual"
   ]
  },
  {
   "cell_type": "code",
   "execution_count": null,
   "metadata": {},
   "outputs": [],
   "source": [
    "# at the end it uses val_dataset\n",
    "\n",
    "# pick one image from the test set\n",
    "img, target = dataset_eval[0]\n",
    "# put the model in evaluation mode\n",
    "model.eval()\n",
    "with torch.no_grad():\n",
    "    prediction = model([img.to(device)])[0]\n",
    "    \n",
    "print('real #boxes: ', len(target['labels']))\n",
    "print('predicted #boxes: ', len(prediction['labels']))\n",
    "\n",
    "print('predicted boxes: ', (prediction['labels']))"
   ]
  },
  {
   "cell_type": "markdown",
   "metadata": {},
   "source": [
    "Whoa! Thats a lot of bboxes. Lets plot them and check what did it predict"
   ]
  },
  {
   "cell_type": "code",
   "execution_count": null,
   "metadata": {},
   "outputs": [],
   "source": [
    "print('EXPECTED OUTPUT')\n",
    "plot_img_bbox(torch_to_pil(img), target)"
   ]
  },
  {
   "cell_type": "code",
   "execution_count": null,
   "metadata": {},
   "outputs": [],
   "source": [
    "print('MODEL OUTPUT')\n",
    "plot_img_bbox(torch_to_pil(img), prediction)"
   ]
  },
  {
   "cell_type": "markdown",
   "metadata": {},
   "source": [
    "You can see that our model predicts a lot of bounding boxes for every apple. Lets apply nms to it and see the final output"
   ]
  },
  {
   "cell_type": "code",
   "execution_count": null,
   "metadata": {},
   "outputs": [],
   "source": [
    "nms_prediction = apply_nms(prediction, iou_thresh=0.97)\n",
    "print('NMS APPLIED MODEL OUTPUT')\n",
    "plot_img_bbox(torch_to_pil(img), nms_prediction)"
   ]
  },
  {
   "cell_type": "markdown",
   "metadata": {},
   "source": [
    "Now lets take an image from the test set and try to predict on it"
   ]
  },
  {
   "cell_type": "code",
   "execution_count": null,
   "metadata": {},
   "outputs": [],
   "source": [
    "## !pwd\n",
    "test_dataset = AaImagesDataset(test_dir,  setwidth, setheight, transforms= get_transform(train=True))\n",
    "# pick one image from the test set\n",
    "img, target = test_dataset[0]\n",
    "# put the model in evaluation mode\n",
    "model.eval()\n",
    "with torch.no_grad():\n",
    "    prediction = model([img.to(device)])[0]\n",
    "    \n",
    "print('EXPECTED OUTPUT\\n')\n",
    "plot_img_bbox(torch_to_pil(img), target)\n",
    "print('MODEL OUTPUT\\n')\n",
    "nms_prediction = apply_nms(prediction, iou_thresh=0.01)\n",
    "# print('box:',nms_prediction['boxes'])\n",
    "print('label:',nms_prediction['labels'])\n",
    "print('score:',nms_prediction['scores'])\n",
    "plot_img_bbox(torch_to_pil(img), nms_prediction)"
   ]
  },
  {
   "cell_type": "markdown",
   "metadata": {},
   "source": [
    "The model did predict a void even though it was a small amount of image data and a simple short training.\n",
    "\n",
    "But fear not, this is just a base line model here are some ideas we can improve it - \n",
    "1. Use a better model. \n",
    "   We have the option of changing the backbone of our model which at present is `resnet 50` and the fine tune it.\n",
    "2. We can change the training configurations like size of the images, optimizers and learning rate schedule.\n",
    "3. We can add more augmentations.\n",
    "   We have used the Albumentations library which has an extensive library of data augmentation functions. Feel free to explore and try them out. "
   ]
  },
  {
   "cell_type": "code",
   "execution_count": null,
   "metadata": {},
   "outputs": [],
   "source": [
    "! pip install ipynbname"
   ]
  },
  {
   "cell_type": "code",
   "execution_count": null,
   "metadata": {},
   "outputs": [],
   "source": [
    "import ipynbname\n",
    "nb_fname = ipynbname.name()\n",
    "nb_path = ipynbname.path()\n",
    "print(nb_fname)"
   ]
  },
  {
   "cell_type": "code",
   "execution_count": null,
   "metadata": {},
   "outputs": [],
   "source": [
    "!touch {nb_fname}__c.txt"
   ]
  },
  {
   "cell_type": "code",
   "execution_count": null,
   "metadata": {},
   "outputs": [],
   "source": [
    "# use f-string to create the name..\n",
    "e=f'demofile2_{nb_fname}.txt'\n",
    "print(e)\n",
    "f = open(e, \"a\")\n",
    "f.write(\"Now the file has more content!\")\n",
    "f.close()"
   ]
  },
  {
   "cell_type": "code",
   "execution_count": null,
   "metadata": {},
   "outputs": [],
   "source": [
    "torch.save(model, f'./{nb_fname}__model.pth')"
   ]
  },
  {
   "cell_type": "code",
   "execution_count": null,
   "metadata": {},
   "outputs": [],
   "source": [
    "torch.save(model.state_dict(), f'./{nb_fname}__modelstate.pth')"
   ]
  },
  {
   "cell_type": "code",
   "execution_count": null,
   "metadata": {},
   "outputs": [],
   "source": [
    "!date"
   ]
  },
  {
   "cell_type": "markdown",
   "metadata": {},
   "source": [
    "# Fin.\n",
    "\n",
    "That's it for the notebook. \n"
   ]
  },
  {
   "cell_type": "code",
   "execution_count": null,
   "metadata": {},
   "outputs": [],
   "source": [
    "!date"
   ]
  },
  {
   "cell_type": "code",
   "execution_count": null,
   "metadata": {},
   "outputs": [],
   "source": []
  }
 ],
 "metadata": {
  "kernelspec": {
   "display_name": "Python 3 (ipykernel)",
   "language": "python",
   "name": "python3"
  },
  "language_info": {
   "codemirror_mode": {
    "name": "ipython",
    "version": 3
   },
   "file_extension": ".py",
   "mimetype": "text/x-python",
   "name": "python",
   "nbconvert_exporter": "python",
   "pygments_lexer": "ipython3",
   "version": "3.8.12"
  }
 },
 "nbformat": 4,
 "nbformat_minor": 4
}
